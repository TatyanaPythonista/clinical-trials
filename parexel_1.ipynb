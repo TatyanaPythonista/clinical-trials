{
  "nbformat": 4,
  "nbformat_minor": 0,
  "metadata": {
    "colab": {
      "name": "parexel_1.ipynb",
      "provenance": [],
      "collapsed_sections": [],
      "authorship_tag": "ABX9TyO7TGwiCW1uarS+/0rK1SO6",
      "include_colab_link": true
    },
    "kernelspec": {
      "name": "python3",
      "display_name": "Python 3"
    },
    "language_info": {
      "name": "python"
    }
  },
  "cells": [
    {
      "cell_type": "markdown",
      "metadata": {
        "id": "view-in-github",
        "colab_type": "text"
      },
      "source": [
        "<a href=\"https://colab.research.google.com/github/TatyanaPythonista/clinical-trials/blob/main/parexel_1.ipynb\" target=\"_parent\"><img src=\"https://colab.research.google.com/assets/colab-badge.svg\" alt=\"Open In Colab\"/></a>"
      ]
    },
    {
      "cell_type": "markdown",
      "source": [
        "# **Definitions**"
      ],
      "metadata": {
        "id": "cmjXxmMuI9Q_"
      }
    },
    {
      "cell_type": "markdown",
      "source": [
        "An **odds ratio (OR)** is a measure of association between a certain property A and a second property B in a population."
      ],
      "metadata": {
        "id": "Zd7U5ZeLI6Wj"
      }
    },
    {
      "cell_type": "markdown",
      "source": [
        "**Confidence interval** is a range of values so defined that there is a specified probability that the value of a parameter lies within it."
      ],
      "metadata": {
        "id": "0Qtzem2UJm5q"
      }
    },
    {
      "cell_type": "markdown",
      "source": [
        "**P-value** is the probability that a particular statistical measure, such as the mean or standard deviation, of an assumed probability distribution will be greater than or equal to (or less than or equal to in some instances) observed results.\n"
      ],
      "metadata": {
        "id": "KX8JYIE5K6dz"
      }
    },
    {
      "cell_type": "code",
      "execution_count": null,
      "metadata": {
        "id": "KDNUWYt3o58x"
      },
      "outputs": [],
      "source": [
        "import warnings\n",
        "warnings.filterwarnings('ignore')"
      ]
    },
    {
      "cell_type": "markdown",
      "source": [
        "Importing the required libraries\n"
      ],
      "metadata": {
        "id": "C2i2gwMFUPQq"
      }
    },
    {
      "cell_type": "code",
      "source": [
        "from google.colab import files\n",
        "\n",
        "import pandas as pd\n",
        "import numpy as np\n",
        "import scipy\n",
        "\n",
        "import statsmodels.api as sm\n",
        "\n",
        "from sklearn.linear_model import LogisticRegression\n",
        "from sklearn.model_selection import train_test_split\n",
        "from sklearn.metrics import classification_report"
      ],
      "metadata": {
        "id": "Zok13qRvuviu"
      },
      "execution_count": null,
      "outputs": []
    },
    {
      "cell_type": "markdown",
      "source": [
        "# **Function to count statistics**"
      ],
      "metadata": {
        "id": "cpeJmDYWG8lp"
      }
    },
    {
      "cell_type": "code",
      "source": [
        "def proportions_diff_confint_ind(sample1, sample2, n1, n2, alpha = 0.05):    \n",
        "    z = scipy.stats.norm.ppf(1 - alpha / 2.)\n",
        "    \n",
        "    p1 = float(sample1) / n1\n",
        "    p2 = float(sample2) / n2\n",
        "    \n",
        "    fuctor = np.sqrt(p1 * (1 - p1)/ n1 + p2 * (1 - p2)/ n2)\n",
        "\n",
        "    left_boundary = (p1 - p2) - z * fuctor\n",
        "    right_boundary = (p1 - p2) + z * fuctor\n",
        "    \n",
        "    return (left_boundary, right_boundary)"
      ],
      "metadata": {
        "id": "zm6mETmNG9Yy"
      },
      "execution_count": null,
      "outputs": []
    },
    {
      "cell_type": "code",
      "source": [
        "def proportions_diff_z_stat_ind(sample1, sample2, n1, n2):\n",
        "    \n",
        "    p1 = float(sample1) / n1\n",
        "    p2 = float(sample2) / n2 \n",
        "    P = float(p1*n1 + p2*n2) / (n1 + n2)\n",
        "    \n",
        "    return (p1 - p2) / np.sqrt(P * (1 - P) * (1. / n1 + 1. / n2))"
      ],
      "metadata": {
        "id": "trDw8dwBHLo_"
      },
      "execution_count": null,
      "outputs": []
    },
    {
      "cell_type": "code",
      "source": [
        "def proportions_diff_z_test(z_stat, alternative = 'two-sided'):\n",
        "    if alternative not in ('two-sided', 'less', 'greater'):\n",
        "        raise ValueError(\"alternative not recognized\\n\"\n",
        "                         \"should be 'two-sided', 'less' or 'greater'\")\n",
        "    \n",
        "    if alternative == 'two-sided':\n",
        "        return 2 * (1 - scipy.stats.norm.cdf(np.abs(z_stat)))\n",
        "    \n",
        "    if alternative == 'less':\n",
        "        return scipy.stats.norm.cdf(z_stat)\n",
        "\n",
        "    if alternative == 'greater':\n",
        "        return 1 - scipy.stats.norm.cdf(z_stat)"
      ],
      "metadata": {
        "id": "UN9XsT4qHMr8"
      },
      "execution_count": null,
      "outputs": []
    },
    {
      "cell_type": "markdown",
      "source": [
        "# Data "
      ],
      "metadata": {
        "id": "V91dFcCV6rRo"
      }
    },
    {
      "cell_type": "code",
      "source": [
        "files.upload()"
      ],
      "metadata": {
        "colab": {
          "resources": {
            "http://localhost:8080/nbextensions/google.colab/files.js": {
              "data": "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",
              "ok": true,
              "headers": [
                [
                  "content-type",
                  "application/javascript"
                ]
              ],
              "status": 200,
              "status_text": ""
            }
          },
          "base_uri": "https://localhost:8080/",
          "height": 112
        },
        "id": "_l3yfNAP7EzX",
        "outputId": "14f1ad6d-b7fc-4867-a6eb-0470c43ffd6e"
      },
      "execution_count": null,
      "outputs": [
        {
          "output_type": "display_data",
          "data": {
            "text/html": [
              "\n",
              "     <input type=\"file\" id=\"files-851732f4-7e9e-422a-9ba8-9d469aa8cdf7\" name=\"files[]\" multiple disabled\n",
              "        style=\"border:none\" />\n",
              "     <output id=\"result-851732f4-7e9e-422a-9ba8-9d469aa8cdf7\">\n",
              "      Upload widget is only available when the cell has been executed in the\n",
              "      current browser session. Please rerun this cell to enable.\n",
              "      </output>\n",
              "      <script src=\"/nbextensions/google.colab/files.js\"></script> "
            ],
            "text/plain": [
              "<IPython.core.display.HTML object>"
            ]
          },
          "metadata": {}
        },
        {
          "output_type": "stream",
          "name": "stdout",
          "text": [
            "Saving resp1.csv to resp1.csv\n"
          ]
        },
        {
          "output_type": "execute_result",
          "data": {
            "text/plain": [
              "{'resp1.csv': b'gender@SITEID@SUBJID@TRTPN@responseCategory\\nMALE@0001@027@2@SD\\nFEMALE@0001@039@1@PD\\nMALE@0001@126@2@PD\\nMALE@0001@154@1@SD\\nFEMALE@0001@161@1@PD\\nFEMALE@0001@198@1@SD\\nMALE@0001@221@1@SD\\nFEMALE@0001@280@1@SD\\nMALE@0001@540@1@SD\\nMALE@0001@557@1@SD\\nFEMALE@0001@599@2@SD\\nMALE@0001@636@2@SD\\nFEMALE@0010@152@1@SD\\nFEMALE@0010@267@2@PD\\nFEMALE@0010@466@1@PD\\nMALE@0010@568@2@NE\\nFEMALE@0010@572@1@PD\\nMALE@0100@053@2@SD\\nMALE@0100@058@1@PD\\nFEMALE@0100@114@2@SD\\nMALE@0100@457@1@SD\\nMALE@0102@074@2@NE\\nMALE@0102@090@1@PD\\nMALE@0102@230@1@SD\\nMALE@0102@255@2@SD\\nFEMALE@0102@272@2@PD\\nMALE@0102@365@2@SD\\nMALE@0102@366@2@PR\\nFEMALE@0102@439@1@PD\\nFEMALE@0102@471@2@SD\\nMALE@0102@474@1@PD\\nMALE@0102@496@2@SD\\nFEMALE@0102@502@1@PR\\nFEMALE@0102@729@2@PR\\nMALE@0102@764@2@SD\\nMALE@0103@035@2@SD\\nMALE@0103@092@2@PR\\nFEMALE@0103@265@2@PR\\nFEMALE@0103@344@1@PD\\nFEMALE@0103@573@1@PD\\nMALE@0103@659@2@PD\\nFEMALE@0103@725@1@PD\\nMALE@0103@745@2@SD\\nFEMALE@0104@142@1@PD\\nFEMALE@0104@391@2@SD\\nFEMALE@0104@418@2@NE\\nMALE@0104@613@1@SD\\nFEMALE@0104@752@1@PR\\nMALE@0107@670@2@SD\\nFEMALE@0107@733@1@PD\\nMALE@0107@750@2@PD\\nFEMALE@0107@770@2@PR\\nMALE@0108@284@1@PD\\nFEMALE@0108@285@1@NE\\nFEMALE@0108@357@1@NE\\nFEMALE@0108@414@2@PD\\nMALE@0108@431@2@PR\\nFEMALE@0108@550@1@PR\\nFEMALE@0108@551@2@SD\\nMALE@0108@584@1@PR\\nMALE@0108@590@2@NE\\nFEMALE@0108@591@1@PD\\nMALE@0108@592@1@PD\\nMALE@0108@655@1@SD\\nMALE@0110@010@1@SD\\nMALE@0110@062@1@NE\\nMALE@0112@115@2@PD\\nMALE@0112@128@1@PR\\nFEMALE@0112@153@1@NE\\nMALE@0112@237@2@PD\\nMALE@0112@296@2@NE\\nMALE@0112@617@2@SD\\nMALE@0112@657@1@SD\\nMALE@0112@665@1@PD\\nFEMALE@0112@711@1@PD\\nMALE@0112@737@1@NE\\nMALE@0112@761@1@SD\\nMALE@0112@768@1@PD\\nMALE@0113@398@1@SD\\nMALE@0113@489@2@PD\\nMALE@0113@501@2@NE\\nFEMALE@0113@532@1@SD\\nMALE@0113@537@1@PD\\nFEMALE@0113@563@2@PD\\nFEMALE@0113@593@2@SD\\nFEMALE@0113@642@1@NE\\nMALE@0113@648@2@PD\\nFEMALE@0113@664@2@SD\\nFEMALE@0114@082@2@SD\\nMALE@0114@117@1@PD\\nMALE@0114@155@2@SD\\nMALE@0114@302@2@PD\\nMALE@0114@313@2@PD\\nMALE@0114@355@1@PD\\nMALE@0114@367@2@SD\\nMALE@0114@556@2@SD\\nMALE@0114@571@2@PD\\nMALE@0114@660@2@SD\\nFEMALE@0115@277@1@PR\\nMALE@0115@353@2@SD\\nMALE@0115@401@2@SD\\nFEMALE@0115@484@2@PD\\nMALE@0115@517@2@SD\\nMALE@0115@785@1@PR\\nMALE@0116@554@1@NE\\nMALE@0117@172@1@NE\\nMALE@0117@257@2@PD\\nMALE@0117@319@2@SD\\nFEMALE@0117@406@1@PD\\nFEMALE@0117@447@1@NE\\nMALE@0117@640@2@PD\\nFEMALE@0118@168@2@PD\\nFEMALE@0118@185@1@PD\\nMALE@0119@301@1@PR\\nMALE@0119@680@1@PR\\nFEMALE@0012@085@2@PR\\nMALE@0012@191@2@SD\\nFEMALE@0012@213@2@PR\\nMALE@0120@276@2@PD\\nFEMALE@0120@574@1@SD\\nMALE@0120@579@1@SD\\nMALE@0120@616@2@SD\\nMALE@0121@605@2@SD\\nMALE@0121@762@1@PD\\nMALE@0122@139@1@PR\\nFEMALE@0122@156@2@SD\\nMALE@0122@186@1@PD\\nMALE@0122@359@2@NE\\nMALE@0122@381@1@PR\\nMALE@0123@738@2@SD\\nFEMALE@0123@756@1@PD\\nMALE@0123@788@2@SD\\nMALE@0124@527@1@PD\\nMALE@0124@674@1@NE\\nMALE@0124@783@1@PD\\nMALE@0125@140@2@SD\\nMALE@0132@465@1@PD\\nMALE@0132@493@2@PR\\nFEMALE@0133@421@2@NE\\nMALE@0133@425@1@PD\\nFEMALE@0133@451@2@PD\\nFEMALE@0133@548@2@NE\\nFEMALE@0133@552@1@SD\\nMALE@0133@559@1@PR\\nFEMALE@0133@654@1@PR\\nMALE@0133@749@2@PD\\nFEMALE@0134@220@2@NE\\nMALE@0134@239@1@PD\\nFEMALE@0134@303@2@PD\\nMALE@0134@438@1@SD\\nMALE@0134@450@1@PD\\nFEMALE@0134@500@2@PR\\nFEMALE@0134@533@1@SD\\nMALE@0134@662@2@PR\\nFEMALE@0135@282@2@SD\\nFEMALE@0135@411@2@SD\\nFEMALE@0135@595@2@PD\\nFEMALE@0136@318@1@SD\\nMALE@0138@794@1@PR\\nFEMALE@0014@015@2@PR\\nFEMALE@0014@041@1@PD\\nMALE@0014@048@1@PR\\nFEMALE@0014@167@2@SD\\nFEMALE@0014@651@1@PD\\nFEMALE@0141@518@2@NE\\nMALE@0141@524@2@PR\\nMALE@0141@526@2@SD\\nFEMALE@0141@598@1@PD\\nFEMALE@0141@759@1@PD\\nMALE@0015@722@2@NE\\nFEMALE@0016@134@2@PD\\nFEMALE@0016@334@1@PD\\nFEMALE@0017@373@1@CR\\nFEMALE@0017@456@1@PR\\nFEMALE@0017@486@2@NE\\nMALE@0017@535@2@NE\\nMALE@0018@133@1@SD\\nMALE@0018@258@2@PD\\nFEMALE@0018@354@1@PD\\nFEMALE@0018@652@1@PD\\nMALE@0018@695@1@SD\\nFEMALE@0019@050@2@PD\\nMALE@0019@078@2@SD\\nFEMALE@0019@151@1@PD\\nFEMALE@0019@251@2@PD\\nMALE@0002@021@1@PD\\nMALE@0002@025@2@NE\\nMALE@0002@038@1@PR\\nMALE@0002@071@2@PD\\nMALE@0002@178@2@SD\\nFEMALE@0002@269@1@SD\\nFEMALE@0002@300@1@PD\\nFEMALE@0002@362@1@SD\\nMALE@0002@376@2@SD\\nMALE@0002@377@2@PD\\nMALE@0002@461@1@SD\\nMALE@0002@497@1@PD\\nMALE@0002@668@1@CR\\nFEMALE@0020@029@2@NE\\nMALE@0020@036@1@PR\\nMALE@0020@052@2@NE\\nMALE@0020@079@1@SD\\nMALE@0020@147@2@SD\\nFEMALE@0020@150@1@PD\\nMALE@0020@200@2@NE\\nMALE@0020@240@1@PD\\nFEMALE@0021@055@2@SD\\nFEMALE@0021@077@2@PD\\nMALE@0021@129@1@PD\\nFEMALE@0021@180@2@PD\\nFEMALE@0021@244@1@PD\\nFEMALE@0021@467@2@NE\\nMALE@0021@608@1@PD\\nMALE@0021@623@2@SD\\nMALE@0021@647@1@PD\\nMALE@0021@730@1@NE\\nMALE@0021@739@1@SD\\nMALE@0023@009@2@NE\\nFEMALE@0023@018@1@PD\\nFEMALE@0023@020@2@CR\\nFEMALE@0023@057@2@SD\\nFEMALE@0023@135@1@PD\\nMALE@0023@136@2@PD\\nFEMALE@0023@165@1@PD\\nFEMALE@0023@197@2@PD\\nMALE@0023@241@2@PD\\nMALE@0023@273@1@SD\\nFEMALE@0023@327@1@PD\\nFEMALE@0023@384@2@PR\\nMALE@0023@494@2@PD\\nMALE@0023@558@1@PR\\nFEMALE@0023@596@1@PR\\nMALE@0023@753@1@PD\\nMALE@0024@312@1@SD\\nMALE@0024@506@2@NE\\nFEMALE@0024@549@1@PD\\nFEMALE@0024@744@2@NE\\nMALE@0025@212@2@SD\\nFEMALE@0025@214@1@PR\\nFEMALE@0025@618@1@PD\\nMALE@0025@728@2@PD\\nFEMALE@0026@080@2@SD\\nFEMALE@0026@088@1@SD\\nFEMALE@0026@109@1@PD\\nFEMALE@0026@146@1@PR\\nMALE@0026@188@2@PR\\nFEMALE@0026@346@1@NE\\nMALE@0026@477@1@PR\\nFEMALE@0026@632@2@SD\\nMALE@0027@001@2@NE\\nMALE@0027@006@1@PD\\nMALE@0027@007@1@PD\\nMALE@0027@008@1@PD\\nMALE@0027@019@1@NE\\nFEMALE@0027@043@1@SD\\nMALE@0027@094@2@NE\\nFEMALE@0027@137@1@PR\\nMALE@0027@193@2@PD\\nFEMALE@0027@268@1@SD\\nFEMALE@0027@402@2@PD\\nMALE@0027@412@2@SD\\nMALE@0027@553@1@PR\\nMALE@0027@611@2@PR\\nFEMALE@0028@086@2@SD\\nFEMALE@0028@087@1@SD\\nFEMALE@0028@125@1@SD\\nFEMALE@0028@182@2@SD\\nMALE@0028@184@1@PR\\nFEMALE@0028@278@2@NE\\nFEMALE@0028@369@2@PD\\nMALE@0028@719@2@SD\\nMALE@0003@045@1@SD\\nMALE@0003@124@2@PD\\nMALE@0030@028@2@PD\\nMALE@0030@040@2@PD\\nFEMALE@0030@065@2@PD\\nFEMALE@0030@069@2@NE\\nFEMALE@0030@171@2@SD\\nMALE@0030@181@2@PD\\nFEMALE@0030@225@2@PD\\nMALE@0030@228@1@SD\\nFEMALE@0030@234@2@PD\\nMALE@0030@530@1@PD\\nFEMALE@0030@546@1@PR\\nMALE@0030@710@1@SD\\nFEMALE@0030@773@2@NE\\nMALE@0030@797@1@PD\\nMALE@0031@432@1@PD\\nFEMALE@0031@678@1@PR\\nMALE@0031@681@2@NE\\nMALE@0032@677@1@PD\\nFEMALE@0032@691@1@SD\\nFEMALE@0032@702@1@PD\\nFEMALE@0032@713@2@PD\\nMALE@0032@726@1@PD\\nFEMALE@0032@772@2@SD\\nFEMALE@0033@119@1@PD\\nMALE@0033@120@1@PD\\nMALE@0033@127@1@PD\\nFEMALE@0033@363@1@SD\\nMALE@0033@409@1@SD\\nMALE@0033@483@1@SD\\nMALE@0033@528@2@SD\\nMALE@0033@597@1@SD\\nFEMALE@0033@612@1@SD\\nMALE@0033@755@1@PD\\nMALE@0034@472@2@NE\\nFEMALE@0034@499@1@CR\\nFEMALE@0034@525@2@PD\\nFEMALE@0034@529@1@PD\\nFEMALE@0034@541@1@PR\\nMALE@0034@787@1@PR\\nMALE@0035@014@2@SD\\nFEMALE@0035@326@2@PD\\nMALE@0035@356@2@SD\\nMALE@0035@740@2@SD\\nFEMALE@0036@256@1@PR\\nMALE@0036@304@1@PD\\nFEMALE@0036@718@2@SD\\nMALE@0037@462@2@SD\\nMALE@0038@089@1@NE\\nFEMALE@0038@166@1@NE\\nFEMALE@0038@324@1@NE\\nMALE@0038@364@1@NE\\nMALE@0038@415@1@PD\\nFEMALE@0039@382@2@SD\\nMALE@0039@566@1@PD\\nFEMALE@0039@631@2@PD\\nMALE@0039@672@2@PD\\nMALE@0004@013@2@SD\\nFEMALE@0004@023@1@PD\\nMALE@0004@044@1@PD\\nMALE@0004@049@1@PD\\nFEMALE@0004@070@1@PD\\nFEMALE@0004@130@2@PR\\nFEMALE@0004@216@2@PD\\nFEMALE@0004@217@1@NE\\nFEMALE@0004@226@1@SD\\nMALE@0004@243@2@PR\\nMALE@0004@368@1@PD\\nFEMALE@0004@380@1@NE\\nMALE@0004@396@2@PD\\nFEMALE@0040@433@1@PD\\nFEMALE@0040@436@2@PR\\nFEMALE@0041@173@1@PR\\nMALE@0041@333@1@PR\\nFEMALE@0041@498@2@PR\\nMALE@0042@054@1@SD\\nFEMALE@0042@211@2@PD\\nMALE@0042@515@2@PD\\nFEMALE@0042@671@1@PD\\nMALE@0042@721@2@PD\\nMALE@0042@741@2@PD\\nFEMALE@0043@423@2@PR\\nMALE@0045@306@1@SD\\nMALE@0045@653@1@PD\\nMALE@0045@724@2@PR\\nFEMALE@0046@279@2@SD\\nFEMALE@0046@429@1@PD\\nFEMALE@0047@174@1@PD\\nMALE@0047@387@2@NE\\nMALE@0047@454@1@PR\\nMALE@0047@455@2@NE\\nFEMALE@0047@509@1@PR\\nMALE@0047@542@2@PR\\nMALE@0047@567@2@PD\\nMALE@0047@673@2@PD\\nMALE@0047@731@2@PD\\nFEMALE@0048@305@1@NE\\nMALE@0048@323@2@PR\\nFEMALE@0048@378@2@SD\\nMALE@0048@561@1@PD\\nFEMALE@0048@703@2@SD\\nFEMALE@0005@195@1@PD\\nMALE@0005@254@1@PD\\nMALE@0005@260@1@PR\\nFEMALE@0005@338@2@SD\\nMALE@0005@600@2@SD\\nMALE@0005@615@2@SD\\nMALE@0005@637@2@NE\\nMALE@0005@763@1@SD\\nMALE@0005@766@2@PR\\nFEMALE@0050@743@1@PD\\nMALE@0051@622@1@PD\\nMALE@0051@643@2@SD\\nFEMALE@0052@519@2@SD\\nFEMALE@0052@560@1@SD\\nFEMALE@0052@747@1@PD\\nFEMALE@0052@754@2@SD\\nFEMALE@0053@578@1@PD\\nFEMALE@0053@661@2@SD\\nMALE@0053@715@1@SD\\nMALE@0054@510@2@SD\\nFEMALE@0054@516@1@NE\\nMALE@0054@601@2@SD\\nFEMALE@0054@633@1@SD\\nMALE@0054@707@1@PD\\nMALE@0055@403@1@PR\\nMALE@0055@476@2@SD\\nMALE@0055@491@2@SD\\nMALE@0055@576@2@PD\\nFEMALE@0055@603@2@SD\\nMALE@0055@639@1@SD\\nMALE@0055@644@1@SD\\nMALE@0055@771@1@SD\\nMALE@0055@782@2@SD\\nFEMALE@0056@708@1@PD\\nFEMALE@0006@095@1@PD\\nMALE@0006@096@2@NE\\nFEMALE@0006@097@2@NE\\nFEMALE@0006@100@1@SD\\nMALE@0006@170@1@PD\\nMALE@0006@189@1@PR\\nMALE@0006@192@1@PD\\nMALE@0006@252@2@SD\\nFEMALE@0006@259@2@PD\\nFEMALE@0006@297@1@PD\\nFEMALE@0006@345@2@SD\\nFEMALE@0006@349@1@SD\\nMALE@0006@379@2@PD\\nFEMALE@0006@397@2@PD\\nFEMALE@0006@482@2@PD\\nFEMALE@0006@520@2@SD\\nFEMALE@0006@522@2@NE\\nFEMALE@0006@555@1@PR\\nFEMALE@0006@562@2@SD\\nMALE@0006@577@2@SD\\nMALE@0006@621@2@SD\\nMALE@0006@628@2@SD\\nFEMALE@0006@684@2@SD\\nMALE@0061@480@1@SD\\nMALE@0062@238@2@PD\\nMALE@0063@253@2@SD\\nMALE@0063@350@1@SD\\nFEMALE@0068@223@1@SD\\nMALE@0068@638@2@NE\\nMALE@0068@687@2@NE\\nMALE@0068@697@2@SD\\nMALE@0068@716@2@PR\\nFEMALE@0068@778@1@PD\\nMALE@0068@781@1@PR\\nFEMALE@0007@016@1@SD\\nFEMALE@0007@031@2@PD\\nFEMALE@0007@032@1@PD\\nFEMALE@0007@061@1@PR\\nFEMALE@0007@064@2@SD\\nMALE@0007@076@2@NE\\nFEMALE@0007@093@1@PR\\nMALE@0007@112@1@PR\\nFEMALE@0007@141@2@SD\\nMALE@0007@464@2@NE\\nFEMALE@0007@543@1@PD\\nMALE@0007@748@2@SD\\nMALE@0070@157@2@SD\\nFEMALE@0070@169@1@SD\\nMALE@0070@206@1@PR\\nMALE@0070@271@1@NE\\nFEMALE@0070@360@2@PD\\nMALE@0070@424@2@SD\\nFEMALE@0070@469@1@PD\\nMALE@0070@547@1@PR\\nMALE@0070@693@1@PR\\nMALE@0072@292@1@PD\\nFEMALE@0072@389@2@SD\\nMALE@0073@417@1@SD\\nFEMALE@0073@434@2@PD\\nMALE@0073@512@2@SD\\nFEMALE@0073@539@1@SD\\nMALE@0073@580@2@PR\\nMALE@0073@630@1@PD\\nMALE@0073@751@2@SD\\nFEMALE@0074@793@2@PD\\nMALE@0077@316@2@SD\\nFEMALE@0077@440@2@PR\\nFEMALE@0077@468@1@NE\\nFEMALE@0077@531@1@PD\\nMALE@0077@646@1@NE\\nMALE@0077@669@1@NE\\nMALE@0077@779@1@SD\\nMALE@0077@795@2@NE\\nFEMALE@0078@203@2@SD\\nMALE@0078@229@1@SD\\nFEMALE@0078@287@1@PD\\nMALE@0078@295@2@SD\\nMALE@0078@314@2@PD\\nFEMALE@0078@328@2@PR\\nMALE@0078@479@2@PR\\nFEMALE@0078@694@2@PD\\nFEMALE@0078@735@2@PR\\nFEMALE@0078@776@2@SD\\nFEMALE@0008@004@2@SD\\nMALE@0008@047@1@CR\\nMALE@0008@098@2@SD\\nMALE@0008@245@2@PD\\nMALE@0082@024@1@PD\\nMALE@0082@026@2@NE\\nMALE@0082@116@1@SD\\nFEMALE@0082@249@2@SD\\nFEMALE@0082@263@1@PD\\nMALE@0082@281@2@PD\\nMALE@0083@339@2@NE\\nFEMALE@0083@340@2@SD\\nMALE@0083@437@1@PD\\nFEMALE@0083@565@1@PD\\nFEMALE@0083@626@1@SD\\nFEMALE@0083@686@1@PD\\nFEMALE@0084@385@1@PD\\nMALE@0084@475@2@PD\\nMALE@0085@108@2@PD\\nFEMALE@0085@149@2@NE\\nMALE@0085@224@2@SD\\nMALE@0085@311@2@SD\\nMALE@0085@395@1@PD\\nFEMALE@0085@445@1@NE\\nMALE@0085@663@1@NE\\nMALE@0085@698@1@PD\\nMALE@0086@104@2@SD\\nMALE@0086@122@2@PD\\nMALE@0087@067@1@PR\\nFEMALE@0087@073@1@PD\\nMALE@0087@091@1@NE\\nFEMALE@0087@320@1@PD\\nFEMALE@0087@658@2@NE\\nFEMALE@0088@325@1@PD\\nMALE@0088@386@2@SD\\nFEMALE@0088@388@1@SD\\nMALE@0088@443@1@PD\\nMALE@0088@620@1@NE\\nFEMALE@0088@757@2@PD\\nFEMALE@0088@760@1@PR\\nMALE@0089@307@2@SD\\nMALE@0089@444@1@NE\\nMALE@0089@495@1@PD\\nFEMALE@0089@666@1@PD\\nFEMALE@0009@233@1@PD\\nFEMALE@0009@352@1@NE\\nFEMALE@0009@407@2@SD\\nFEMALE@0009@505@2@SD\\nMALE@0009@523@2@NE\\nMALE@0009@570@2@SD\\nFEMALE@0009@614@2@NE\\nFEMALE@0009@746@1@SD\\nFEMALE@0090@235@1@NE\\nMALE@0090@236@2@SD\\nFEMALE@0090@299@2@SD\\nFEMALE@0090@348@1@SD\\nMALE@0090@394@1@PD\\nMALE@0090@736@2@SD\\nMALE@0090@780@1@PD\\nMALE@0091@081@2@PD\\nFEMALE@0091@111@1@PD\\nMALE@0091@177@2@PD\\nFEMALE@0091@222@1@PD\\nMALE@0091@310@1@PR\\nFEMALE@0091@358@2@NE\\nFEMALE@0091@374@1@SD\\nFEMALE@0091@587@1@PR\\nMALE@0091@602@1@PD\\nFEMALE@0091@624@2@PD\\nMALE@0091@692@2@PR\\nFEMALE@0091@734@2@PD\\nFEMALE@0092@022@2@SD\\nFEMALE@0092@066@2@PD\\nFEMALE@0092@194@2@PD\\nFEMALE@0093@202@1@SD\\nMALE@0093@487@1@PR\\nMALE@0093@705@2@PD\\nMALE@0094@575@1@PD\\nMALE@0094@610@2@PR\\nFEMALE@0095@481@1@PR\\nFEMALE@0095@503@2@SD\\nMALE@0095@504@2@SD\\nMALE@0096@459@2@PR\\nMALE@0097@030@2@SD\\nFEMALE@0097@163@1@PD\\nFEMALE@0097@513@1@SD\\nMALE@0097@545@1@PD\\nFEMALE@0097@758@2@SD\\nFEMALE@0098@293@2@SD\\nMALE@0099@176@2@SD\\nMALE@0099@564@2@PR\\nMALE@0099@723@1@NE\\n'}"
            ]
          },
          "metadata": {},
          "execution_count": 7
        }
      ]
    },
    {
      "cell_type": "code",
      "source": [
        "data = pd.read_csv('resp1.csv', sep='@')"
      ],
      "metadata": {
        "id": "xs6_MiMa7Use"
      },
      "execution_count": null,
      "outputs": []
    },
    {
      "cell_type": "code",
      "source": [
        "data.head(10)"
      ],
      "metadata": {
        "colab": {
          "base_uri": "https://localhost:8080/",
          "height": 363
        },
        "id": "afn4mQ5s7jSk",
        "outputId": "f885515d-249f-46ce-ceb9-f65734eb50a1"
      },
      "execution_count": null,
      "outputs": [
        {
          "output_type": "execute_result",
          "data": {
            "text/html": [
              "\n",
              "  <div id=\"df-df856bb2-b04c-4ef1-a259-a0d15b91f43a\">\n",
              "    <div class=\"colab-df-container\">\n",
              "      <div>\n",
              "<style scoped>\n",
              "    .dataframe tbody tr th:only-of-type {\n",
              "        vertical-align: middle;\n",
              "    }\n",
              "\n",
              "    .dataframe tbody tr th {\n",
              "        vertical-align: top;\n",
              "    }\n",
              "\n",
              "    .dataframe thead th {\n",
              "        text-align: right;\n",
              "    }\n",
              "</style>\n",
              "<table border=\"1\" class=\"dataframe\">\n",
              "  <thead>\n",
              "    <tr style=\"text-align: right;\">\n",
              "      <th></th>\n",
              "      <th>gender</th>\n",
              "      <th>SITEID</th>\n",
              "      <th>SUBJID</th>\n",
              "      <th>TRTPN</th>\n",
              "      <th>responseCategory</th>\n",
              "    </tr>\n",
              "  </thead>\n",
              "  <tbody>\n",
              "    <tr>\n",
              "      <th>0</th>\n",
              "      <td>MALE</td>\n",
              "      <td>1</td>\n",
              "      <td>27</td>\n",
              "      <td>2</td>\n",
              "      <td>SD</td>\n",
              "    </tr>\n",
              "    <tr>\n",
              "      <th>1</th>\n",
              "      <td>FEMALE</td>\n",
              "      <td>1</td>\n",
              "      <td>39</td>\n",
              "      <td>1</td>\n",
              "      <td>PD</td>\n",
              "    </tr>\n",
              "    <tr>\n",
              "      <th>2</th>\n",
              "      <td>MALE</td>\n",
              "      <td>1</td>\n",
              "      <td>126</td>\n",
              "      <td>2</td>\n",
              "      <td>PD</td>\n",
              "    </tr>\n",
              "    <tr>\n",
              "      <th>3</th>\n",
              "      <td>MALE</td>\n",
              "      <td>1</td>\n",
              "      <td>154</td>\n",
              "      <td>1</td>\n",
              "      <td>SD</td>\n",
              "    </tr>\n",
              "    <tr>\n",
              "      <th>4</th>\n",
              "      <td>FEMALE</td>\n",
              "      <td>1</td>\n",
              "      <td>161</td>\n",
              "      <td>1</td>\n",
              "      <td>PD</td>\n",
              "    </tr>\n",
              "    <tr>\n",
              "      <th>5</th>\n",
              "      <td>FEMALE</td>\n",
              "      <td>1</td>\n",
              "      <td>198</td>\n",
              "      <td>1</td>\n",
              "      <td>SD</td>\n",
              "    </tr>\n",
              "    <tr>\n",
              "      <th>6</th>\n",
              "      <td>MALE</td>\n",
              "      <td>1</td>\n",
              "      <td>221</td>\n",
              "      <td>1</td>\n",
              "      <td>SD</td>\n",
              "    </tr>\n",
              "    <tr>\n",
              "      <th>7</th>\n",
              "      <td>FEMALE</td>\n",
              "      <td>1</td>\n",
              "      <td>280</td>\n",
              "      <td>1</td>\n",
              "      <td>SD</td>\n",
              "    </tr>\n",
              "    <tr>\n",
              "      <th>8</th>\n",
              "      <td>MALE</td>\n",
              "      <td>1</td>\n",
              "      <td>540</td>\n",
              "      <td>1</td>\n",
              "      <td>SD</td>\n",
              "    </tr>\n",
              "    <tr>\n",
              "      <th>9</th>\n",
              "      <td>MALE</td>\n",
              "      <td>1</td>\n",
              "      <td>557</td>\n",
              "      <td>1</td>\n",
              "      <td>SD</td>\n",
              "    </tr>\n",
              "  </tbody>\n",
              "</table>\n",
              "</div>\n",
              "      <button class=\"colab-df-convert\" onclick=\"convertToInteractive('df-df856bb2-b04c-4ef1-a259-a0d15b91f43a')\"\n",
              "              title=\"Convert this dataframe to an interactive table.\"\n",
              "              style=\"display:none;\">\n",
              "        \n",
              "  <svg xmlns=\"http://www.w3.org/2000/svg\" height=\"24px\"viewBox=\"0 0 24 24\"\n",
              "       width=\"24px\">\n",
              "    <path d=\"M0 0h24v24H0V0z\" fill=\"none\"/>\n",
              "    <path d=\"M18.56 5.44l.94 2.06.94-2.06 2.06-.94-2.06-.94-.94-2.06-.94 2.06-2.06.94zm-11 1L8.5 8.5l.94-2.06 2.06-.94-2.06-.94L8.5 2.5l-.94 2.06-2.06.94zm10 10l.94 2.06.94-2.06 2.06-.94-2.06-.94-.94-2.06-.94 2.06-2.06.94z\"/><path d=\"M17.41 7.96l-1.37-1.37c-.4-.4-.92-.59-1.43-.59-.52 0-1.04.2-1.43.59L10.3 9.45l-7.72 7.72c-.78.78-.78 2.05 0 2.83L4 21.41c.39.39.9.59 1.41.59.51 0 1.02-.2 1.41-.59l7.78-7.78 2.81-2.81c.8-.78.8-2.07 0-2.86zM5.41 20L4 18.59l7.72-7.72 1.47 1.35L5.41 20z\"/>\n",
              "  </svg>\n",
              "      </button>\n",
              "      \n",
              "  <style>\n",
              "    .colab-df-container {\n",
              "      display:flex;\n",
              "      flex-wrap:wrap;\n",
              "      gap: 12px;\n",
              "    }\n",
              "\n",
              "    .colab-df-convert {\n",
              "      background-color: #E8F0FE;\n",
              "      border: none;\n",
              "      border-radius: 50%;\n",
              "      cursor: pointer;\n",
              "      display: none;\n",
              "      fill: #1967D2;\n",
              "      height: 32px;\n",
              "      padding: 0 0 0 0;\n",
              "      width: 32px;\n",
              "    }\n",
              "\n",
              "    .colab-df-convert:hover {\n",
              "      background-color: #E2EBFA;\n",
              "      box-shadow: 0px 1px 2px rgba(60, 64, 67, 0.3), 0px 1px 3px 1px rgba(60, 64, 67, 0.15);\n",
              "      fill: #174EA6;\n",
              "    }\n",
              "\n",
              "    [theme=dark] .colab-df-convert {\n",
              "      background-color: #3B4455;\n",
              "      fill: #D2E3FC;\n",
              "    }\n",
              "\n",
              "    [theme=dark] .colab-df-convert:hover {\n",
              "      background-color: #434B5C;\n",
              "      box-shadow: 0px 1px 3px 1px rgba(0, 0, 0, 0.15);\n",
              "      filter: drop-shadow(0px 1px 2px rgba(0, 0, 0, 0.3));\n",
              "      fill: #FFFFFF;\n",
              "    }\n",
              "  </style>\n",
              "\n",
              "      <script>\n",
              "        const buttonEl =\n",
              "          document.querySelector('#df-df856bb2-b04c-4ef1-a259-a0d15b91f43a button.colab-df-convert');\n",
              "        buttonEl.style.display =\n",
              "          google.colab.kernel.accessAllowed ? 'block' : 'none';\n",
              "\n",
              "        async function convertToInteractive(key) {\n",
              "          const element = document.querySelector('#df-df856bb2-b04c-4ef1-a259-a0d15b91f43a');\n",
              "          const dataTable =\n",
              "            await google.colab.kernel.invokeFunction('convertToInteractive',\n",
              "                                                     [key], {});\n",
              "          if (!dataTable) return;\n",
              "\n",
              "          const docLinkHtml = 'Like what you see? Visit the ' +\n",
              "            '<a target=\"_blank\" href=https://colab.research.google.com/notebooks/data_table.ipynb>data table notebook</a>'\n",
              "            + ' to learn more about interactive tables.';\n",
              "          element.innerHTML = '';\n",
              "          dataTable['output_type'] = 'display_data';\n",
              "          await google.colab.output.renderOutput(dataTable, element);\n",
              "          const docLink = document.createElement('div');\n",
              "          docLink.innerHTML = docLinkHtml;\n",
              "          element.appendChild(docLink);\n",
              "        }\n",
              "      </script>\n",
              "    </div>\n",
              "  </div>\n",
              "  "
            ],
            "text/plain": [
              "   gender  SITEID  SUBJID  TRTPN responseCategory\n",
              "0    MALE       1      27      2               SD\n",
              "1  FEMALE       1      39      1               PD\n",
              "2    MALE       1     126      2               PD\n",
              "3    MALE       1     154      1               SD\n",
              "4  FEMALE       1     161      1               PD\n",
              "5  FEMALE       1     198      1               SD\n",
              "6    MALE       1     221      1               SD\n",
              "7  FEMALE       1     280      1               SD\n",
              "8    MALE       1     540      1               SD\n",
              "9    MALE       1     557      1               SD"
            ]
          },
          "metadata": {},
          "execution_count": 9
        }
      ]
    },
    {
      "cell_type": "code",
      "source": [
        "data.info()"
      ],
      "metadata": {
        "colab": {
          "base_uri": "https://localhost:8080/"
        },
        "id": "-28vb_yu7Yz8",
        "outputId": "01619ddd-7f92-40a4-fc69-e669800d8c42"
      },
      "execution_count": null,
      "outputs": [
        {
          "output_type": "stream",
          "name": "stdout",
          "text": [
            "<class 'pandas.core.frame.DataFrame'>\n",
            "RangeIndex: 582 entries, 0 to 581\n",
            "Data columns (total 5 columns):\n",
            " #   Column            Non-Null Count  Dtype \n",
            "---  ------            --------------  ----- \n",
            " 0   gender            582 non-null    object\n",
            " 1   SITEID            582 non-null    int64 \n",
            " 2   SUBJID            582 non-null    int64 \n",
            " 3   TRTPN             582 non-null    int64 \n",
            " 4   responseCategory  582 non-null    object\n",
            "dtypes: int64(3), object(2)\n",
            "memory usage: 22.9+ KB\n"
          ]
        }
      ]
    },
    {
      "cell_type": "code",
      "source": [
        "data.describe()"
      ],
      "metadata": {
        "colab": {
          "base_uri": "https://localhost:8080/",
          "height": 300
        },
        "id": "9yH-IufU75bl",
        "outputId": "1f660fb1-0048-4037-82e7-56227ca8b8ba"
      },
      "execution_count": null,
      "outputs": [
        {
          "output_type": "execute_result",
          "data": {
            "text/html": [
              "\n",
              "  <div id=\"df-e84f4b25-2f86-4c1d-97d7-212c889a6563\">\n",
              "    <div class=\"colab-df-container\">\n",
              "      <div>\n",
              "<style scoped>\n",
              "    .dataframe tbody tr th:only-of-type {\n",
              "        vertical-align: middle;\n",
              "    }\n",
              "\n",
              "    .dataframe tbody tr th {\n",
              "        vertical-align: top;\n",
              "    }\n",
              "\n",
              "    .dataframe thead th {\n",
              "        text-align: right;\n",
              "    }\n",
              "</style>\n",
              "<table border=\"1\" class=\"dataframe\">\n",
              "  <thead>\n",
              "    <tr style=\"text-align: right;\">\n",
              "      <th></th>\n",
              "      <th>SITEID</th>\n",
              "      <th>SUBJID</th>\n",
              "      <th>TRTPN</th>\n",
              "    </tr>\n",
              "  </thead>\n",
              "  <tbody>\n",
              "    <tr>\n",
              "      <th>count</th>\n",
              "      <td>582.00000</td>\n",
              "      <td>582.000000</td>\n",
              "      <td>582.000000</td>\n",
              "    </tr>\n",
              "    <tr>\n",
              "      <th>mean</th>\n",
              "      <td>59.42268</td>\n",
              "      <td>402.443299</td>\n",
              "      <td>1.498282</td>\n",
              "    </tr>\n",
              "    <tr>\n",
              "      <th>std</th>\n",
              "      <td>42.34690</td>\n",
              "      <td>231.560424</td>\n",
              "      <td>0.500427</td>\n",
              "    </tr>\n",
              "    <tr>\n",
              "      <th>min</th>\n",
              "      <td>1.00000</td>\n",
              "      <td>1.000000</td>\n",
              "      <td>1.000000</td>\n",
              "    </tr>\n",
              "    <tr>\n",
              "      <th>25%</th>\n",
              "      <td>23.00000</td>\n",
              "      <td>197.250000</td>\n",
              "      <td>1.000000</td>\n",
              "    </tr>\n",
              "    <tr>\n",
              "      <th>50%</th>\n",
              "      <td>52.00000</td>\n",
              "      <td>408.000000</td>\n",
              "      <td>1.000000</td>\n",
              "    </tr>\n",
              "    <tr>\n",
              "      <th>75%</th>\n",
              "      <td>99.00000</td>\n",
              "      <td>599.750000</td>\n",
              "      <td>2.000000</td>\n",
              "    </tr>\n",
              "    <tr>\n",
              "      <th>max</th>\n",
              "      <td>141.00000</td>\n",
              "      <td>797.000000</td>\n",
              "      <td>2.000000</td>\n",
              "    </tr>\n",
              "  </tbody>\n",
              "</table>\n",
              "</div>\n",
              "      <button class=\"colab-df-convert\" onclick=\"convertToInteractive('df-e84f4b25-2f86-4c1d-97d7-212c889a6563')\"\n",
              "              title=\"Convert this dataframe to an interactive table.\"\n",
              "              style=\"display:none;\">\n",
              "        \n",
              "  <svg xmlns=\"http://www.w3.org/2000/svg\" height=\"24px\"viewBox=\"0 0 24 24\"\n",
              "       width=\"24px\">\n",
              "    <path d=\"M0 0h24v24H0V0z\" fill=\"none\"/>\n",
              "    <path d=\"M18.56 5.44l.94 2.06.94-2.06 2.06-.94-2.06-.94-.94-2.06-.94 2.06-2.06.94zm-11 1L8.5 8.5l.94-2.06 2.06-.94-2.06-.94L8.5 2.5l-.94 2.06-2.06.94zm10 10l.94 2.06.94-2.06 2.06-.94-2.06-.94-.94-2.06-.94 2.06-2.06.94z\"/><path d=\"M17.41 7.96l-1.37-1.37c-.4-.4-.92-.59-1.43-.59-.52 0-1.04.2-1.43.59L10.3 9.45l-7.72 7.72c-.78.78-.78 2.05 0 2.83L4 21.41c.39.39.9.59 1.41.59.51 0 1.02-.2 1.41-.59l7.78-7.78 2.81-2.81c.8-.78.8-2.07 0-2.86zM5.41 20L4 18.59l7.72-7.72 1.47 1.35L5.41 20z\"/>\n",
              "  </svg>\n",
              "      </button>\n",
              "      \n",
              "  <style>\n",
              "    .colab-df-container {\n",
              "      display:flex;\n",
              "      flex-wrap:wrap;\n",
              "      gap: 12px;\n",
              "    }\n",
              "\n",
              "    .colab-df-convert {\n",
              "      background-color: #E8F0FE;\n",
              "      border: none;\n",
              "      border-radius: 50%;\n",
              "      cursor: pointer;\n",
              "      display: none;\n",
              "      fill: #1967D2;\n",
              "      height: 32px;\n",
              "      padding: 0 0 0 0;\n",
              "      width: 32px;\n",
              "    }\n",
              "\n",
              "    .colab-df-convert:hover {\n",
              "      background-color: #E2EBFA;\n",
              "      box-shadow: 0px 1px 2px rgba(60, 64, 67, 0.3), 0px 1px 3px 1px rgba(60, 64, 67, 0.15);\n",
              "      fill: #174EA6;\n",
              "    }\n",
              "\n",
              "    [theme=dark] .colab-df-convert {\n",
              "      background-color: #3B4455;\n",
              "      fill: #D2E3FC;\n",
              "    }\n",
              "\n",
              "    [theme=dark] .colab-df-convert:hover {\n",
              "      background-color: #434B5C;\n",
              "      box-shadow: 0px 1px 3px 1px rgba(0, 0, 0, 0.15);\n",
              "      filter: drop-shadow(0px 1px 2px rgba(0, 0, 0, 0.3));\n",
              "      fill: #FFFFFF;\n",
              "    }\n",
              "  </style>\n",
              "\n",
              "      <script>\n",
              "        const buttonEl =\n",
              "          document.querySelector('#df-e84f4b25-2f86-4c1d-97d7-212c889a6563 button.colab-df-convert');\n",
              "        buttonEl.style.display =\n",
              "          google.colab.kernel.accessAllowed ? 'block' : 'none';\n",
              "\n",
              "        async function convertToInteractive(key) {\n",
              "          const element = document.querySelector('#df-e84f4b25-2f86-4c1d-97d7-212c889a6563');\n",
              "          const dataTable =\n",
              "            await google.colab.kernel.invokeFunction('convertToInteractive',\n",
              "                                                     [key], {});\n",
              "          if (!dataTable) return;\n",
              "\n",
              "          const docLinkHtml = 'Like what you see? Visit the ' +\n",
              "            '<a target=\"_blank\" href=https://colab.research.google.com/notebooks/data_table.ipynb>data table notebook</a>'\n",
              "            + ' to learn more about interactive tables.';\n",
              "          element.innerHTML = '';\n",
              "          dataTable['output_type'] = 'display_data';\n",
              "          await google.colab.output.renderOutput(dataTable, element);\n",
              "          const docLink = document.createElement('div');\n",
              "          docLink.innerHTML = docLinkHtml;\n",
              "          element.appendChild(docLink);\n",
              "        }\n",
              "      </script>\n",
              "    </div>\n",
              "  </div>\n",
              "  "
            ],
            "text/plain": [
              "          SITEID      SUBJID       TRTPN\n",
              "count  582.00000  582.000000  582.000000\n",
              "mean    59.42268  402.443299    1.498282\n",
              "std     42.34690  231.560424    0.500427\n",
              "min      1.00000    1.000000    1.000000\n",
              "25%     23.00000  197.250000    1.000000\n",
              "50%     52.00000  408.000000    1.000000\n",
              "75%     99.00000  599.750000    2.000000\n",
              "max    141.00000  797.000000    2.000000"
            ]
          },
          "metadata": {},
          "execution_count": 11
        }
      ]
    },
    {
      "cell_type": "code",
      "source": [
        "data.shape"
      ],
      "metadata": {
        "colab": {
          "base_uri": "https://localhost:8080/"
        },
        "id": "i95hWbrI7_U2",
        "outputId": "09bb3931-b085-45ae-f856-036081f7391e"
      },
      "execution_count": null,
      "outputs": [
        {
          "output_type": "execute_result",
          "data": {
            "text/plain": [
              "(582, 5)"
            ]
          },
          "metadata": {},
          "execution_count": 12
        }
      ]
    },
    {
      "cell_type": "markdown",
      "source": [
        "# Preparation"
      ],
      "metadata": {
        "id": "sXNTYP0K8JGM"
      }
    },
    {
      "cell_type": "code",
      "source": [
        "data.drop(columns=['SITEID', 'SUBJID'], inplace=True)\n",
        "data.columns = ['gender',\t'treatment',\t'was_response']\n",
        "data['gender'] = (data['gender'] == 'MALE').astype(int)\n",
        "data.treatment.replace({1: 0, 2: 1}, inplace=True)\n",
        "data.was_response.replace({'CR': 1, 'PR': 1, 'SD': 0, 'PD': 0, 'NE': 0}, inplace=True)\n",
        "data['intercept'] = 1"
      ],
      "metadata": {
        "id": "Yd_hs-wY8QtI"
      },
      "execution_count": null,
      "outputs": []
    },
    {
      "cell_type": "code",
      "source": [
        "data.head()"
      ],
      "metadata": {
        "colab": {
          "base_uri": "https://localhost:8080/",
          "height": 206
        },
        "id": "J7rfZKQq-CoR",
        "outputId": "24c16fce-12ad-4b1b-a655-0757416f46bf"
      },
      "execution_count": null,
      "outputs": [
        {
          "output_type": "execute_result",
          "data": {
            "text/html": [
              "\n",
              "  <div id=\"df-9d69b9c5-4f84-43f8-953c-8e3f6a6d79aa\">\n",
              "    <div class=\"colab-df-container\">\n",
              "      <div>\n",
              "<style scoped>\n",
              "    .dataframe tbody tr th:only-of-type {\n",
              "        vertical-align: middle;\n",
              "    }\n",
              "\n",
              "    .dataframe tbody tr th {\n",
              "        vertical-align: top;\n",
              "    }\n",
              "\n",
              "    .dataframe thead th {\n",
              "        text-align: right;\n",
              "    }\n",
              "</style>\n",
              "<table border=\"1\" class=\"dataframe\">\n",
              "  <thead>\n",
              "    <tr style=\"text-align: right;\">\n",
              "      <th></th>\n",
              "      <th>gender</th>\n",
              "      <th>treatment</th>\n",
              "      <th>was_response</th>\n",
              "      <th>intercept</th>\n",
              "    </tr>\n",
              "  </thead>\n",
              "  <tbody>\n",
              "    <tr>\n",
              "      <th>0</th>\n",
              "      <td>1</td>\n",
              "      <td>1</td>\n",
              "      <td>0</td>\n",
              "      <td>1</td>\n",
              "    </tr>\n",
              "    <tr>\n",
              "      <th>1</th>\n",
              "      <td>0</td>\n",
              "      <td>0</td>\n",
              "      <td>0</td>\n",
              "      <td>1</td>\n",
              "    </tr>\n",
              "    <tr>\n",
              "      <th>2</th>\n",
              "      <td>1</td>\n",
              "      <td>1</td>\n",
              "      <td>0</td>\n",
              "      <td>1</td>\n",
              "    </tr>\n",
              "    <tr>\n",
              "      <th>3</th>\n",
              "      <td>1</td>\n",
              "      <td>0</td>\n",
              "      <td>0</td>\n",
              "      <td>1</td>\n",
              "    </tr>\n",
              "    <tr>\n",
              "      <th>4</th>\n",
              "      <td>0</td>\n",
              "      <td>0</td>\n",
              "      <td>0</td>\n",
              "      <td>1</td>\n",
              "    </tr>\n",
              "  </tbody>\n",
              "</table>\n",
              "</div>\n",
              "      <button class=\"colab-df-convert\" onclick=\"convertToInteractive('df-9d69b9c5-4f84-43f8-953c-8e3f6a6d79aa')\"\n",
              "              title=\"Convert this dataframe to an interactive table.\"\n",
              "              style=\"display:none;\">\n",
              "        \n",
              "  <svg xmlns=\"http://www.w3.org/2000/svg\" height=\"24px\"viewBox=\"0 0 24 24\"\n",
              "       width=\"24px\">\n",
              "    <path d=\"M0 0h24v24H0V0z\" fill=\"none\"/>\n",
              "    <path d=\"M18.56 5.44l.94 2.06.94-2.06 2.06-.94-2.06-.94-.94-2.06-.94 2.06-2.06.94zm-11 1L8.5 8.5l.94-2.06 2.06-.94-2.06-.94L8.5 2.5l-.94 2.06-2.06.94zm10 10l.94 2.06.94-2.06 2.06-.94-2.06-.94-.94-2.06-.94 2.06-2.06.94z\"/><path d=\"M17.41 7.96l-1.37-1.37c-.4-.4-.92-.59-1.43-.59-.52 0-1.04.2-1.43.59L10.3 9.45l-7.72 7.72c-.78.78-.78 2.05 0 2.83L4 21.41c.39.39.9.59 1.41.59.51 0 1.02-.2 1.41-.59l7.78-7.78 2.81-2.81c.8-.78.8-2.07 0-2.86zM5.41 20L4 18.59l7.72-7.72 1.47 1.35L5.41 20z\"/>\n",
              "  </svg>\n",
              "      </button>\n",
              "      \n",
              "  <style>\n",
              "    .colab-df-container {\n",
              "      display:flex;\n",
              "      flex-wrap:wrap;\n",
              "      gap: 12px;\n",
              "    }\n",
              "\n",
              "    .colab-df-convert {\n",
              "      background-color: #E8F0FE;\n",
              "      border: none;\n",
              "      border-radius: 50%;\n",
              "      cursor: pointer;\n",
              "      display: none;\n",
              "      fill: #1967D2;\n",
              "      height: 32px;\n",
              "      padding: 0 0 0 0;\n",
              "      width: 32px;\n",
              "    }\n",
              "\n",
              "    .colab-df-convert:hover {\n",
              "      background-color: #E2EBFA;\n",
              "      box-shadow: 0px 1px 2px rgba(60, 64, 67, 0.3), 0px 1px 3px 1px rgba(60, 64, 67, 0.15);\n",
              "      fill: #174EA6;\n",
              "    }\n",
              "\n",
              "    [theme=dark] .colab-df-convert {\n",
              "      background-color: #3B4455;\n",
              "      fill: #D2E3FC;\n",
              "    }\n",
              "\n",
              "    [theme=dark] .colab-df-convert:hover {\n",
              "      background-color: #434B5C;\n",
              "      box-shadow: 0px 1px 3px 1px rgba(0, 0, 0, 0.15);\n",
              "      filter: drop-shadow(0px 1px 2px rgba(0, 0, 0, 0.3));\n",
              "      fill: #FFFFFF;\n",
              "    }\n",
              "  </style>\n",
              "\n",
              "      <script>\n",
              "        const buttonEl =\n",
              "          document.querySelector('#df-9d69b9c5-4f84-43f8-953c-8e3f6a6d79aa button.colab-df-convert');\n",
              "        buttonEl.style.display =\n",
              "          google.colab.kernel.accessAllowed ? 'block' : 'none';\n",
              "\n",
              "        async function convertToInteractive(key) {\n",
              "          const element = document.querySelector('#df-9d69b9c5-4f84-43f8-953c-8e3f6a6d79aa');\n",
              "          const dataTable =\n",
              "            await google.colab.kernel.invokeFunction('convertToInteractive',\n",
              "                                                     [key], {});\n",
              "          if (!dataTable) return;\n",
              "\n",
              "          const docLinkHtml = 'Like what you see? Visit the ' +\n",
              "            '<a target=\"_blank\" href=https://colab.research.google.com/notebooks/data_table.ipynb>data table notebook</a>'\n",
              "            + ' to learn more about interactive tables.';\n",
              "          element.innerHTML = '';\n",
              "          dataTable['output_type'] = 'display_data';\n",
              "          await google.colab.output.renderOutput(dataTable, element);\n",
              "          const docLink = document.createElement('div');\n",
              "          docLink.innerHTML = docLinkHtml;\n",
              "          element.appendChild(docLink);\n",
              "        }\n",
              "      </script>\n",
              "    </div>\n",
              "  </div>\n",
              "  "
            ],
            "text/plain": [
              "   gender  treatment  was_response  intercept\n",
              "0       1          1             0          1\n",
              "1       0          0             0          1\n",
              "2       1          1             0          1\n",
              "3       1          0             0          1\n",
              "4       0          0             0          1"
            ]
          },
          "metadata": {},
          "execution_count": 14
        }
      ]
    },
    {
      "cell_type": "code",
      "source": [
        "data.shape"
      ],
      "metadata": {
        "colab": {
          "base_uri": "https://localhost:8080/"
        },
        "id": "sVkz55sd-fI1",
        "outputId": "c10b21cb-35e5-4254-ac1e-7fa2c7232bca"
      },
      "execution_count": null,
      "outputs": [
        {
          "output_type": "execute_result",
          "data": {
            "text/plain": [
              "(582, 4)"
            ]
          },
          "metadata": {},
          "execution_count": 15
        }
      ]
    },
    {
      "cell_type": "markdown",
      "source": [
        "# Statistical findings"
      ],
      "metadata": {
        "id": "JDQMVaUSFTFQ"
      }
    },
    {
      "cell_type": "markdown",
      "source": [
        "*   H0 : Response is independent on a treatment.\n",
        "*   H1 : Response is dependent on a treatment."
      ],
      "metadata": {
        "id": "alI-3pJqFcCa"
      }
    },
    {
      "cell_type": "code",
      "source": [
        "no_resp_treat1 = data.loc[data['treatment'] == 0].was_response.value_counts()[0]\n",
        "resp_treat1 = data.loc[data['treatment'] == 0].was_response.value_counts()[1]\n",
        "no_resp_treat2 = data.loc[data['treatment'] == 1].was_response.value_counts()[0]\n",
        "resp_treat2 = data.loc[data['treatment'] == 1].was_response.value_counts()[1]\n",
        "total_treat1 = no_resp_treat1 + resp_treat1\n",
        "total_treat2 = no_resp_treat2 + resp_treat2"
      ],
      "metadata": {
        "id": "KpFrP7scv2DW"
      },
      "execution_count": null,
      "outputs": []
    },
    {
      "cell_type": "code",
      "source": [
        "print(f'95% confidence interval for a difference between proportions \\\n",
        "({proportions_diff_confint_ind(resp_treat1, resp_treat2, total_treat1, total_treat2, alpha = 0.05)[0]:.4f}:\\\n",
        "{proportions_diff_confint_ind(resp_treat1, resp_treat2, total_treat1, total_treat2, alpha = 0.05)[1]:.4f})')"
      ],
      "metadata": {
        "colab": {
          "base_uri": "https://localhost:8080/"
        },
        "id": "Q0CtFh5oxlO9",
        "outputId": "4e1aca15-2551-4ad7-e35c-06fb76c2aa5b"
      },
      "execution_count": null,
      "outputs": [
        {
          "output_type": "stream",
          "name": "stdout",
          "text": [
            "95% confidence interval for a difference between proportions (0.0087:0.1266)\n"
          ]
        }
      ]
    },
    {
      "cell_type": "code",
      "source": [
        "print(resp_treat1, resp_treat2, total_treat1, total_treat2)"
      ],
      "metadata": {
        "colab": {
          "base_uri": "https://localhost:8080/"
        },
        "id": "H9E0_TLdz2eH",
        "outputId": "f8938e4d-2e45-423d-f6b6-351ef494ef30"
      },
      "execution_count": null,
      "outputs": [
        {
          "output_type": "stream",
          "name": "stdout",
          "text": [
            "56 36 292 290\n"
          ]
        }
      ]
    },
    {
      "cell_type": "code",
      "source": [
        "print(f\"p-value: {proportions_diff_z_test(proportions_diff_z_stat_ind(resp_treat1, resp_treat2, total_treat1, total_treat2)):.2f}\")"
      ],
      "metadata": {
        "colab": {
          "base_uri": "https://localhost:8080/"
        },
        "id": "eZbl5qs5yJUY",
        "outputId": "33c21584-3552-41fc-c4dc-b259b185e830"
      },
      "execution_count": null,
      "outputs": [
        {
          "output_type": "stream",
          "name": "stdout",
          "text": [
            "p-value: 0.03\n"
          ]
        }
      ]
    },
    {
      "cell_type": "markdown",
      "source": [
        "# Result: reject the null hypothesis, p-value < 0.05."
      ],
      "metadata": {
        "id": "YXRohUg3GyQt"
      }
    },
    {
      "cell_type": "markdown",
      "source": [
        "# Creation of logistic regression model with one variable"
      ],
      "metadata": {
        "id": "HrNnoQPn_Nis"
      }
    },
    {
      "cell_type": "markdown",
      "source": [
        "Create a model of logistic regression by statsmodels library.\n"
      ],
      "metadata": {
        "id": "92Ys3_UvVSJz"
      }
    },
    {
      "cell_type": "code",
      "source": [
        "z = scipy.stats.norm.ppf(1 - 0.05 / 2.)"
      ],
      "metadata": {
        "id": "Nx-tUqeqqwXi"
      },
      "execution_count": null,
      "outputs": []
    },
    {
      "cell_type": "code",
      "source": [
        "X_1 = data.drop(columns=['was_response', 'gender'])\n",
        "y_1 = data.was_response"
      ],
      "metadata": {
        "id": "VFLpUXfWKrpH"
      },
      "execution_count": null,
      "outputs": []
    },
    {
      "cell_type": "code",
      "source": [
        "logit_model_1 = sm.Logit(y_1, X_1)\n",
        "result_1 = logit_model_1.fit()\n",
        "print(result_1.summary())"
      ],
      "metadata": {
        "colab": {
          "base_uri": "https://localhost:8080/"
        },
        "id": "uLzG2_WpKrlU",
        "outputId": "3c14c9f6-07bd-4068-ccde-58e2ae3eeab5"
      },
      "execution_count": null,
      "outputs": [
        {
          "output_type": "stream",
          "name": "stdout",
          "text": [
            "Optimization terminated successfully.\n",
            "         Current function value: 0.432137\n",
            "         Iterations 6\n",
            "                           Logit Regression Results                           \n",
            "==============================================================================\n",
            "Dep. Variable:           was_response   No. Observations:                  582\n",
            "Model:                          Logit   Df Residuals:                      580\n",
            "Method:                           MLE   Df Model:                            1\n",
            "Date:                Thu, 30 Dec 2021   Pseudo R-squ.:                0.009915\n",
            "Time:                        01:40:09   Log-Likelihood:                -251.50\n",
            "converged:                       True   LL-Null:                       -254.02\n",
            "Covariance Type:            nonrobust   LLR p-value:                   0.02481\n",
            "==============================================================================\n",
            "                 coef    std err          z      P>|z|      [0.025      0.975]\n",
            "------------------------------------------------------------------------------\n",
            "treatment     -0.5153      0.232     -2.222      0.026      -0.970      -0.061\n",
            "intercept     -1.4385      0.149     -9.677      0.000      -1.730      -1.147\n",
            "==============================================================================\n"
          ]
        }
      ]
    },
    {
      "cell_type": "code",
      "source": [
        "result_1.params.values"
      ],
      "metadata": {
        "colab": {
          "base_uri": "https://localhost:8080/"
        },
        "id": "PCYiNOfkhvuO",
        "outputId": "6ca81045-8372-4688-8b02-c1f7ec2319db"
      },
      "execution_count": null,
      "outputs": [
        {
          "output_type": "execute_result",
          "data": {
            "text/plain": [
              "array([-0.51533521, -1.43848011])"
            ]
          },
          "metadata": {},
          "execution_count": 23
        }
      ]
    },
    {
      "cell_type": "code",
      "source": [
        "a1 = result_1.params.values[0]\n",
        "a0 = result_1.params.values[1]"
      ],
      "metadata": {
        "id": "QHehF2loh_Nb"
      },
      "execution_count": null,
      "outputs": []
    },
    {
      "cell_type": "code",
      "source": [
        "def func1(sex):\n",
        "  func1 = a0 + a1*sex\n",
        "  return func1"
      ],
      "metadata": {
        "id": "WYM_u4osBtnU"
      },
      "execution_count": null,
      "outputs": []
    },
    {
      "cell_type": "code",
      "source": [
        "OR_t1vst2 = np.exp(func1(sex=0))/np.exp(func1(sex=1))\n",
        "left_OR_t1vst2 = np.exp((func1(sex=0))-(func1(sex=1)) - z*0.232)\n",
        "right_OR_t1vst2 = np.exp((func1(sex=0))-(func1(sex=1)) + z*0.232)"
      ],
      "metadata": {
        "id": "0MRRXpAL70On"
      },
      "execution_count": null,
      "outputs": []
    },
    {
      "cell_type": "code",
      "source": [
        "print(f'An odds ratio of treatment 1 over treatment 2 is {OR_t1vst2:.2f} with CI ({left_OR_t1vst2:.2f}, {right_OR_t1vst2:.2f})')"
      ],
      "metadata": {
        "colab": {
          "base_uri": "https://localhost:8080/"
        },
        "id": "8CDgTSZUCngE",
        "outputId": "417f79ad-4a57-4c15-ce9b-ed9ee6755835"
      },
      "execution_count": null,
      "outputs": [
        {
          "output_type": "stream",
          "name": "stdout",
          "text": [
            "An odds ratio of treatment 1 over treatment 2 is 1.67 with CI (1.06, 2.64)\n"
          ]
        }
      ]
    },
    {
      "cell_type": "markdown",
      "source": [
        "Count odds ratio using Table2x2\n"
      ],
      "metadata": {
        "id": "yNDeSwJnWbJ9"
      }
    },
    {
      "cell_type": "code",
      "source": [
        "table = sm.stats.Table2x2(np.array([[resp_treat1, no_resp_treat1], [resp_treat2, no_resp_treat2]]))"
      ],
      "metadata": {
        "id": "83xVZn5qBHrA"
      },
      "execution_count": null,
      "outputs": []
    },
    {
      "cell_type": "code",
      "source": [
        "print(table.summary(method='normal'))"
      ],
      "metadata": {
        "colab": {
          "base_uri": "https://localhost:8080/"
        },
        "id": "ZYVNWZso4lL9",
        "outputId": "dcfa7aa0-7182-4256-927f-a8f63350422e"
      },
      "execution_count": null,
      "outputs": [
        {
          "output_type": "stream",
          "name": "stdout",
          "text": [
            "               Estimate   SE   LCB   UCB  p-value\n",
            "-------------------------------------------------\n",
            "Odds ratio        1.674       1.063 2.638   0.026\n",
            "Log odds ratio    0.515 0.232 0.061 0.970   0.026\n",
            "Risk ratio        1.545       1.050 2.272   0.027\n",
            "Log risk ratio    0.435 0.197 0.049 0.821   0.027\n",
            "-------------------------------------------------\n"
          ]
        }
      ]
    },
    {
      "cell_type": "code",
      "source": [
        "a = table.summary(method='normal')"
      ],
      "metadata": {
        "id": "QY-a2jD5DJl4"
      },
      "execution_count": null,
      "outputs": []
    },
    {
      "cell_type": "code",
      "source": [
        "print(f'An odds ratio of treatment 1 over treatment 2 is {np.exp(0.515):.2f} \\\n",
        "with CI ({np.exp(0.515 - z*0.232):.2f}, {np.exp(0.515 + z*0.232):.2f})')"
      ],
      "metadata": {
        "colab": {
          "base_uri": "https://localhost:8080/"
        },
        "id": "f9gwmacSsfbE",
        "outputId": "0582785a-71be-465d-eb6c-caa75115a7ea"
      },
      "execution_count": null,
      "outputs": [
        {
          "output_type": "stream",
          "name": "stdout",
          "text": [
            "An odds ratio of treatment 1 over treatment 2 is 1.67 with CI (1.06, 2.64)\n"
          ]
        }
      ]
    },
    {
      "cell_type": "markdown",
      "source": [
        "# Creation of logistic regression model with three variable\n",
        "# Preparation"
      ],
      "metadata": {
        "id": "VWRHddboRm_s"
      }
    },
    {
      "cell_type": "code",
      "source": [
        "data['interaction'] = data['gender']*data['treatment']"
      ],
      "metadata": {
        "id": "Ej2jyb6NRmrY"
      },
      "execution_count": null,
      "outputs": []
    },
    {
      "cell_type": "code",
      "source": [
        "data.head()"
      ],
      "metadata": {
        "colab": {
          "base_uri": "https://localhost:8080/",
          "height": 206
        },
        "id": "NLO8-kCoSCSL",
        "outputId": "14ee480f-0586-47ee-8e54-0d6f2cdfd611"
      },
      "execution_count": null,
      "outputs": [
        {
          "output_type": "execute_result",
          "data": {
            "text/html": [
              "\n",
              "  <div id=\"df-d0752dd0-34c4-4aa6-98f0-388b00cefe55\">\n",
              "    <div class=\"colab-df-container\">\n",
              "      <div>\n",
              "<style scoped>\n",
              "    .dataframe tbody tr th:only-of-type {\n",
              "        vertical-align: middle;\n",
              "    }\n",
              "\n",
              "    .dataframe tbody tr th {\n",
              "        vertical-align: top;\n",
              "    }\n",
              "\n",
              "    .dataframe thead th {\n",
              "        text-align: right;\n",
              "    }\n",
              "</style>\n",
              "<table border=\"1\" class=\"dataframe\">\n",
              "  <thead>\n",
              "    <tr style=\"text-align: right;\">\n",
              "      <th></th>\n",
              "      <th>gender</th>\n",
              "      <th>treatment</th>\n",
              "      <th>was_response</th>\n",
              "      <th>intercept</th>\n",
              "      <th>interaction</th>\n",
              "    </tr>\n",
              "  </thead>\n",
              "  <tbody>\n",
              "    <tr>\n",
              "      <th>0</th>\n",
              "      <td>1</td>\n",
              "      <td>1</td>\n",
              "      <td>0</td>\n",
              "      <td>1</td>\n",
              "      <td>1</td>\n",
              "    </tr>\n",
              "    <tr>\n",
              "      <th>1</th>\n",
              "      <td>0</td>\n",
              "      <td>0</td>\n",
              "      <td>0</td>\n",
              "      <td>1</td>\n",
              "      <td>0</td>\n",
              "    </tr>\n",
              "    <tr>\n",
              "      <th>2</th>\n",
              "      <td>1</td>\n",
              "      <td>1</td>\n",
              "      <td>0</td>\n",
              "      <td>1</td>\n",
              "      <td>1</td>\n",
              "    </tr>\n",
              "    <tr>\n",
              "      <th>3</th>\n",
              "      <td>1</td>\n",
              "      <td>0</td>\n",
              "      <td>0</td>\n",
              "      <td>1</td>\n",
              "      <td>0</td>\n",
              "    </tr>\n",
              "    <tr>\n",
              "      <th>4</th>\n",
              "      <td>0</td>\n",
              "      <td>0</td>\n",
              "      <td>0</td>\n",
              "      <td>1</td>\n",
              "      <td>0</td>\n",
              "    </tr>\n",
              "  </tbody>\n",
              "</table>\n",
              "</div>\n",
              "      <button class=\"colab-df-convert\" onclick=\"convertToInteractive('df-d0752dd0-34c4-4aa6-98f0-388b00cefe55')\"\n",
              "              title=\"Convert this dataframe to an interactive table.\"\n",
              "              style=\"display:none;\">\n",
              "        \n",
              "  <svg xmlns=\"http://www.w3.org/2000/svg\" height=\"24px\"viewBox=\"0 0 24 24\"\n",
              "       width=\"24px\">\n",
              "    <path d=\"M0 0h24v24H0V0z\" fill=\"none\"/>\n",
              "    <path d=\"M18.56 5.44l.94 2.06.94-2.06 2.06-.94-2.06-.94-.94-2.06-.94 2.06-2.06.94zm-11 1L8.5 8.5l.94-2.06 2.06-.94-2.06-.94L8.5 2.5l-.94 2.06-2.06.94zm10 10l.94 2.06.94-2.06 2.06-.94-2.06-.94-.94-2.06-.94 2.06-2.06.94z\"/><path d=\"M17.41 7.96l-1.37-1.37c-.4-.4-.92-.59-1.43-.59-.52 0-1.04.2-1.43.59L10.3 9.45l-7.72 7.72c-.78.78-.78 2.05 0 2.83L4 21.41c.39.39.9.59 1.41.59.51 0 1.02-.2 1.41-.59l7.78-7.78 2.81-2.81c.8-.78.8-2.07 0-2.86zM5.41 20L4 18.59l7.72-7.72 1.47 1.35L5.41 20z\"/>\n",
              "  </svg>\n",
              "      </button>\n",
              "      \n",
              "  <style>\n",
              "    .colab-df-container {\n",
              "      display:flex;\n",
              "      flex-wrap:wrap;\n",
              "      gap: 12px;\n",
              "    }\n",
              "\n",
              "    .colab-df-convert {\n",
              "      background-color: #E8F0FE;\n",
              "      border: none;\n",
              "      border-radius: 50%;\n",
              "      cursor: pointer;\n",
              "      display: none;\n",
              "      fill: #1967D2;\n",
              "      height: 32px;\n",
              "      padding: 0 0 0 0;\n",
              "      width: 32px;\n",
              "    }\n",
              "\n",
              "    .colab-df-convert:hover {\n",
              "      background-color: #E2EBFA;\n",
              "      box-shadow: 0px 1px 2px rgba(60, 64, 67, 0.3), 0px 1px 3px 1px rgba(60, 64, 67, 0.15);\n",
              "      fill: #174EA6;\n",
              "    }\n",
              "\n",
              "    [theme=dark] .colab-df-convert {\n",
              "      background-color: #3B4455;\n",
              "      fill: #D2E3FC;\n",
              "    }\n",
              "\n",
              "    [theme=dark] .colab-df-convert:hover {\n",
              "      background-color: #434B5C;\n",
              "      box-shadow: 0px 1px 3px 1px rgba(0, 0, 0, 0.15);\n",
              "      filter: drop-shadow(0px 1px 2px rgba(0, 0, 0, 0.3));\n",
              "      fill: #FFFFFF;\n",
              "    }\n",
              "  </style>\n",
              "\n",
              "      <script>\n",
              "        const buttonEl =\n",
              "          document.querySelector('#df-d0752dd0-34c4-4aa6-98f0-388b00cefe55 button.colab-df-convert');\n",
              "        buttonEl.style.display =\n",
              "          google.colab.kernel.accessAllowed ? 'block' : 'none';\n",
              "\n",
              "        async function convertToInteractive(key) {\n",
              "          const element = document.querySelector('#df-d0752dd0-34c4-4aa6-98f0-388b00cefe55');\n",
              "          const dataTable =\n",
              "            await google.colab.kernel.invokeFunction('convertToInteractive',\n",
              "                                                     [key], {});\n",
              "          if (!dataTable) return;\n",
              "\n",
              "          const docLinkHtml = 'Like what you see? Visit the ' +\n",
              "            '<a target=\"_blank\" href=https://colab.research.google.com/notebooks/data_table.ipynb>data table notebook</a>'\n",
              "            + ' to learn more about interactive tables.';\n",
              "          element.innerHTML = '';\n",
              "          dataTable['output_type'] = 'display_data';\n",
              "          await google.colab.output.renderOutput(dataTable, element);\n",
              "          const docLink = document.createElement('div');\n",
              "          docLink.innerHTML = docLinkHtml;\n",
              "          element.appendChild(docLink);\n",
              "        }\n",
              "      </script>\n",
              "    </div>\n",
              "  </div>\n",
              "  "
            ],
            "text/plain": [
              "   gender  treatment  was_response  intercept  interaction\n",
              "0       1          1             0          1            1\n",
              "1       0          0             0          1            0\n",
              "2       1          1             0          1            1\n",
              "3       1          0             0          1            0\n",
              "4       0          0             0          1            0"
            ]
          },
          "metadata": {},
          "execution_count": 37
        }
      ]
    },
    {
      "cell_type": "markdown",
      "source": [
        "Create a model of logistic regression by statsmodels library."
      ],
      "metadata": {
        "id": "x6o1x_VlW1yI"
      }
    },
    {
      "cell_type": "code",
      "source": [
        "X_2 = data.drop(columns=['was_response'])\n",
        "y_2 = data.was_response"
      ],
      "metadata": {
        "id": "YDjzna9OS3dF"
      },
      "execution_count": null,
      "outputs": []
    },
    {
      "cell_type": "code",
      "source": [
        "logit_model_2 = sm.Logit(y_2, X_2)\n",
        "result_2 = logit_model_2.fit()\n",
        "print(result_2.summary())"
      ],
      "metadata": {
        "colab": {
          "base_uri": "https://localhost:8080/"
        },
        "id": "o5qzmzHxTqzZ",
        "outputId": "ff8a78b3-f11c-47b0-efd9-45a43c1c28c8"
      },
      "execution_count": null,
      "outputs": [
        {
          "output_type": "stream",
          "name": "stdout",
          "text": [
            "Optimization terminated successfully.\n",
            "         Current function value: 0.431351\n",
            "         Iterations 6\n",
            "                           Logit Regression Results                           \n",
            "==============================================================================\n",
            "Dep. Variable:           was_response   No. Observations:                  582\n",
            "Model:                          Logit   Df Residuals:                      578\n",
            "Method:                           MLE   Df Model:                            3\n",
            "Date:                Thu, 30 Dec 2021   Pseudo R-squ.:                 0.01172\n",
            "Time:                        01:48:03   Log-Likelihood:                -251.05\n",
            "converged:                       True   LL-Null:                       -254.02\n",
            "Covariance Type:            nonrobust   LLR p-value:                    0.1139\n",
            "===============================================================================\n",
            "                  coef    std err          z      P>|z|      [0.025      0.975]\n",
            "-------------------------------------------------------------------------------\n",
            "gender          0.2707      0.300      0.903      0.366      -0.317       0.858\n",
            "treatment      -0.3067      0.349     -0.878      0.380      -0.992       0.378\n",
            "intercept      -1.5841      0.224     -7.069      0.000      -2.023      -1.145\n",
            "interaction    -0.3814      0.468     -0.816      0.415      -1.298       0.535\n",
            "===============================================================================\n"
          ]
        }
      ]
    },
    {
      "cell_type": "code",
      "source": [
        "result_2.params.values"
      ],
      "metadata": {
        "colab": {
          "base_uri": "https://localhost:8080/"
        },
        "id": "gYFy1KUhhQXP",
        "outputId": "5831d7bc-ebb9-44dc-ab79-7543f184c301"
      },
      "execution_count": null,
      "outputs": [
        {
          "output_type": "execute_result",
          "data": {
            "text/plain": [
              "array([ 0.27073251, -0.30673027, -1.5841201 , -0.38136214])"
            ]
          },
          "metadata": {},
          "execution_count": 40
        }
      ]
    },
    {
      "cell_type": "code",
      "source": [
        "b0 = result_2.params.values[2]\n",
        "b1 = result_2.params.values[0]\n",
        "b2 = result_2.params.values[1]\n",
        "b3 = result_2.params.values[3]"
      ],
      "metadata": {
        "id": "BrcIckjXuca_"
      },
      "execution_count": null,
      "outputs": []
    },
    {
      "cell_type": "code",
      "source": [
        "def func2(sex, treatment):\n",
        "  func = b0 + b1*sex + b2*treatment + b3*sex*treatment\n",
        "  return func"
      ],
      "metadata": {
        "id": "6YB-NbIY5B5U"
      },
      "execution_count": null,
      "outputs": []
    },
    {
      "cell_type": "code",
      "source": [
        "OR_t1vst2_m = np.exp(func2(sex=1, treatment=0))/np.exp(func2(sex=1, treatment=1))\n",
        "left_OR_t1vst2_m = np.exp((func2(sex=1, treatment=0))-(func2(sex=1, treatment=1)) - z*0.349)\n",
        "right_OR_t1vst2_m = np.exp((func2(sex=1, treatment=0))-(func2(sex=1, treatment=1)) + z*0.349)"
      ],
      "metadata": {
        "id": "ntDX4JQC8w3K"
      },
      "execution_count": null,
      "outputs": []
    },
    {
      "cell_type": "code",
      "source": [
        "print(f'Odds ratio of treatment 1 over treatment 2 | Male is {OR_t1vst2_m:.2f} with CI ({left_OR_t1vst2_m:.2f}, {right_OR_t1vst2_m:.2f})')"
      ],
      "metadata": {
        "colab": {
          "base_uri": "https://localhost:8080/"
        },
        "id": "9dE4289BvIia",
        "outputId": "882ae3d5-37b5-465b-e4d6-9b820f8e6d34"
      },
      "execution_count": null,
      "outputs": [
        {
          "output_type": "stream",
          "name": "stdout",
          "text": [
            "Odds ratio of treatment 1 over treatment 2 | Male is 1.99 with CI (1.00, 3.94)\n"
          ]
        }
      ]
    },
    {
      "cell_type": "code",
      "source": [
        "OR_t1vst2_f = np.exp(func2(sex=0, treatment=0))/np.exp(func2(sex=0, treatment=1))\n",
        "left_OR_t1vst2_f = np.exp((func2(sex=0, treatment=0))-(func2(sex=0, treatment=1)) - z*0.349)\n",
        "right_OR_t1vst2_f = np.exp((func2(sex=0, treatment=0))-(func2(sex=0, treatment=1)) + z*0.349)"
      ],
      "metadata": {
        "id": "FjJmksHm9h9M"
      },
      "execution_count": null,
      "outputs": []
    },
    {
      "cell_type": "code",
      "source": [
        "print(f'Odds ratio of treatment 1 over treatment 2 | Female is {OR_t1vst2_f:.2f} with CI ({left_OR_t1vst2_f:.2f}, {right_OR_t1vst2_f:.2f})')"
      ],
      "metadata": {
        "colab": {
          "base_uri": "https://localhost:8080/"
        },
        "id": "vhVXPpfmIMGB",
        "outputId": "99ae701d-3a00-4cc2-a845-05a65a043a0b"
      },
      "execution_count": null,
      "outputs": [
        {
          "output_type": "stream",
          "name": "stdout",
          "text": [
            "Odds ratio of treatment 1 over treatment 2 | Female is 1.36 with CI (0.69, 2.69)\n"
          ]
        }
      ]
    },
    {
      "cell_type": "code",
      "source": [
        "OR_FvsM_t1 = np.exp(func2(0, 0))/np.exp(func2(1, 0))\n",
        "left_OR_FvsM_t1 = np.exp((func2(0, 0))-(func2(1, 0)) - z*0.300)\n",
        "right_OR_FvsM_t1 = np.exp((func2(0, 0))-(func2(1, 0)) + z*0.300)"
      ],
      "metadata": {
        "id": "AfHNtZxP-F8K"
      },
      "execution_count": null,
      "outputs": []
    },
    {
      "cell_type": "code",
      "source": [
        "print(f'Odds ratio of Female over Male | treatment 1 is {OR_FvsM_t1:.2f} with CI ({left_OR_FvsM_t1:.2f}, {right_OR_FvsM_t1:.2f})')"
      ],
      "metadata": {
        "colab": {
          "base_uri": "https://localhost:8080/"
        },
        "id": "Z931-0gnI9dI",
        "outputId": "22728ab6-df6e-4bd9-ae86-eb634608d067"
      },
      "execution_count": null,
      "outputs": [
        {
          "output_type": "stream",
          "name": "stdout",
          "text": [
            "Odds ratio of Female over Male | treatment 1 is 0.76 with CI (0.42, 1.37)\n"
          ]
        }
      ]
    },
    {
      "cell_type": "code",
      "source": [
        "OR_FvsM_t2 = np.exp(func2(0, 1))/np.exp(func2(1, 1))\n",
        "left_OR_FvsM_t2 = np.exp((func2(0, 1))-(func2(1, 1)) - z*0.300)\n",
        "right_OR_FvsM_t2 = np.exp((func2(0, 1))-(func2(1, 1)) + z*0.300)"
      ],
      "metadata": {
        "id": "lxzUBDMx-0cb"
      },
      "execution_count": null,
      "outputs": []
    },
    {
      "cell_type": "code",
      "source": [
        "print(f'Odds ratio of Female over Male | treatment 2 is {OR_FvsM_t2:.2f} with CI ({left_OR_FvsM_t2:.2f}, {right_OR_FvsM_t2:.2f})')"
      ],
      "metadata": {
        "colab": {
          "base_uri": "https://localhost:8080/"
        },
        "id": "F8MDJdVbJ0TS",
        "outputId": "d9c0b708-65a9-488c-b3d9-70ecb870bb59"
      },
      "execution_count": null,
      "outputs": [
        {
          "output_type": "stream",
          "name": "stdout",
          "text": [
            "Odds ratio of Female over Male | treatment 2 is 1.12 with CI (0.62, 2.01)\n"
          ]
        }
      ]
    },
    {
      "cell_type": "markdown",
      "source": [
        "# Result from regresion model"
      ],
      "metadata": {
        "id": "eF07lprkBRoB"
      }
    },
    {
      "cell_type": "markdown",
      "source": [
        "\n",
        "*   Odds ratio of treatment 1 over treatment 2 | Male is 1.99 with CI (1.00, 3.94)\n",
        "\n",
        "*   Odds ratio of treatment 1 over treatment 2 | Female is 1.36 with CI (0.69, 2.69)\n",
        "\n",
        "*   Odds ratio of Female over Male | treatment 1 is 0.76 with CI (0.42, 1.37)\n",
        "\n",
        "*   Odds ratio of Female over Male | treatment 2 is 1.12 with CI (0.62, 2.01)\n"
      ],
      "metadata": {
        "id": "5HL2m2Nt3tQO"
      }
    },
    {
      "cell_type": "markdown",
      "source": [
        "Count odds ratio using Table2x2"
      ],
      "metadata": {
        "id": "1bSQl5CwXER5"
      }
    },
    {
      "cell_type": "code",
      "source": [
        "data_gender1 = data.loc[data['gender'] == 1] # male"
      ],
      "metadata": {
        "id": "21bxjeafU5oW"
      },
      "execution_count": null,
      "outputs": []
    },
    {
      "cell_type": "code",
      "source": [
        "no_resp_m_treat1 = data_gender1.loc[data['treatment'] == 0].was_response.value_counts()[0]\n",
        "no_resp_m_treat2 = data_gender1.loc[data['treatment'] == 1].was_response.value_counts()[0]\n",
        "resp_m_treat1 = data_gender1.loc[data['treatment'] == 0].was_response.value_counts()[1]\n",
        "resp_m_treat2 = data_gender1.loc[data['treatment'] == 1].was_response.value_counts()[1]"
      ],
      "metadata": {
        "id": "jSci0Wx5KnWQ"
      },
      "execution_count": null,
      "outputs": []
    },
    {
      "cell_type": "code",
      "source": [
        "print(no_resp_m_treat1, no_resp_m_treat2, resp_m_treat1, resp_m_treat2)"
      ],
      "metadata": {
        "colab": {
          "base_uri": "https://localhost:8080/"
        },
        "id": "mNidzhFjLhDK",
        "outputId": "be56e5b0-2dce-480a-fd57-56f6dbccda2c"
      },
      "execution_count": null,
      "outputs": [
        {
          "output_type": "stream",
          "name": "stdout",
          "text": [
            "119 148 32 20\n"
          ]
        }
      ]
    },
    {
      "cell_type": "code",
      "source": [
        "table2 = sm.stats.Table2x2(np.array([[resp_m_treat1, no_resp_m_treat1], [resp_m_treat2, no_resp_m_treat2]]))"
      ],
      "metadata": {
        "id": "Uc5aR7-YXtDF"
      },
      "execution_count": null,
      "outputs": []
    },
    {
      "cell_type": "code",
      "source": [
        "print(table2.summary(method='normal'))"
      ],
      "metadata": {
        "colab": {
          "base_uri": "https://localhost:8080/"
        },
        "id": "wUpNqG7-XwA_",
        "outputId": "42ea2bba-4307-4cf5-dda9-ca4d92cd6884"
      },
      "execution_count": null,
      "outputs": [
        {
          "output_type": "stream",
          "name": "stdout",
          "text": [
            "               Estimate   SE   LCB   UCB  p-value\n",
            "-------------------------------------------------\n",
            "Odds ratio        1.990       1.083 3.657   0.027\n",
            "Log odds ratio    0.688 0.310 0.080 1.297   0.027\n",
            "Risk ratio        1.780       1.065 2.975   0.028\n",
            "Log risk ratio    0.577 0.262 0.063 1.090   0.028\n",
            "-------------------------------------------------\n"
          ]
        }
      ]
    },
    {
      "cell_type": "code",
      "source": [
        "print(f'Odds ratio of treatment 1 vs treatment 2 | Male is {np.exp(0.688):.2f} with ({np.exp(0.688 - z*0.310):.2f}, {np.exp(0.688 + z*0.310):.2f})')"
      ],
      "metadata": {
        "colab": {
          "base_uri": "https://localhost:8080/"
        },
        "id": "hTlCPCs5e3By",
        "outputId": "afb5df6a-1ced-4ebc-a995-306406e6cb50"
      },
      "execution_count": null,
      "outputs": [
        {
          "output_type": "stream",
          "name": "stdout",
          "text": [
            "Odds ratio of treatment 1 vs treatment 2 | Male is 1.99 with (1.08, 3.65)\n"
          ]
        }
      ]
    },
    {
      "cell_type": "code",
      "source": [
        "data_gender0 = data.loc[data['gender'] == 0] # female"
      ],
      "metadata": {
        "id": "oharHgYuYeg5"
      },
      "execution_count": null,
      "outputs": []
    },
    {
      "cell_type": "code",
      "source": [
        "no_resp_f_treat1 = data_gender0.loc[data['treatment'] == 0].was_response.value_counts()[0]\n",
        "no_resp_f_treat2 = data_gender0.loc[data['treatment'] == 1].was_response.value_counts()[0]\n",
        "resp_f_treat1 = data_gender0.loc[data['treatment'] == 0].was_response.value_counts()[1]\n",
        "resp_f_treat2 = data_gender0.loc[data['treatment'] == 1].was_response.value_counts()[1]"
      ],
      "metadata": {
        "id": "JX8TBoEOMFzy"
      },
      "execution_count": null,
      "outputs": []
    },
    {
      "cell_type": "code",
      "source": [
        "print(no_resp_f_treat1, no_resp_f_treat2, resp_f_treat1, resp_f_treat2)"
      ],
      "metadata": {
        "colab": {
          "base_uri": "https://localhost:8080/"
        },
        "id": "AzPc-pT0MUQD",
        "outputId": "5b3e401b-7ec2-47ed-d829-937e3653dfed"
      },
      "execution_count": null,
      "outputs": [
        {
          "output_type": "stream",
          "name": "stdout",
          "text": [
            "117 106 24 16\n"
          ]
        }
      ]
    },
    {
      "cell_type": "code",
      "source": [
        "table3 = sm.stats.Table2x2(np.array([[resp_f_treat1, no_resp_f_treat1], [resp_f_treat2, no_resp_f_treat2]]))"
      ],
      "metadata": {
        "id": "Do3RMcT8YxZo"
      },
      "execution_count": null,
      "outputs": []
    },
    {
      "cell_type": "code",
      "source": [
        "print(table3.summary(method='normal'))"
      ],
      "metadata": {
        "colab": {
          "base_uri": "https://localhost:8080/"
        },
        "id": "Wa1IWEOGY432",
        "outputId": "a5e5ec5f-8ff6-4a71-9616-e89d2083e70d"
      },
      "execution_count": null,
      "outputs": [
        {
          "output_type": "stream",
          "name": "stdout",
          "text": [
            "               Estimate   SE   LCB    UCB  p-value\n",
            "--------------------------------------------------\n",
            "Odds ratio        1.359        0.685 2.696   0.380\n",
            "Log odds ratio    0.307 0.349 -0.378 0.992   0.380\n",
            "Risk ratio        1.298        0.724 2.328   0.382\n",
            "Log risk ratio    0.261 0.298 -0.324 0.845   0.382\n",
            "--------------------------------------------------\n"
          ]
        }
      ]
    },
    {
      "cell_type": "code",
      "source": [
        "print(f'Odds ratio of treatment 1 vs treatment 2 | Female {np.exp(0.307):.2f} with ({np.exp(0.307 - z*0.349):.2f}, {np.exp(0.307 + z*0.349):.2f})')"
      ],
      "metadata": {
        "colab": {
          "base_uri": "https://localhost:8080/"
        },
        "id": "6oylSt5E4WSQ",
        "outputId": "cc767c25-4b47-48fc-e558-be8b2f4cc658"
      },
      "execution_count": null,
      "outputs": [
        {
          "output_type": "stream",
          "name": "stdout",
          "text": [
            "Odds ratio of treatment 1 vs treatment 2 | Female 1.36 with (0.69, 2.69)\n"
          ]
        }
      ]
    },
    {
      "cell_type": "code",
      "source": [
        "data_treat1 = data.loc[data['treatment'] == 0]"
      ],
      "metadata": {
        "id": "CX2ZXSxnY40G"
      },
      "execution_count": null,
      "outputs": []
    },
    {
      "cell_type": "code",
      "source": [
        "no_resp_treat1_f = data_treat1.loc[data['gender'] == 0].was_response.value_counts()[0]\n",
        "no_resp_treat1_m = data_treat1.loc[data['gender'] == 1].was_response.value_counts()[0]\n",
        "resp_treat1_f = data_treat1.loc[data['gender'] == 0].was_response.value_counts()[1]\n",
        "resp_treat1_m = data_treat1.loc[data['gender'] == 1].was_response.value_counts()[1]"
      ],
      "metadata": {
        "id": "ssAoN_FuM__U"
      },
      "execution_count": null,
      "outputs": []
    },
    {
      "cell_type": "code",
      "source": [
        "print(no_resp_treat1_f, no_resp_treat1_m, resp_treat1_f, resp_treat1_m)"
      ],
      "metadata": {
        "colab": {
          "base_uri": "https://localhost:8080/"
        },
        "id": "PnPsF2yiNiU9",
        "outputId": "16fd2dd9-cf2c-450b-a2f1-c090ee6a0c13"
      },
      "execution_count": null,
      "outputs": [
        {
          "output_type": "stream",
          "name": "stdout",
          "text": [
            "117 119 24 32\n"
          ]
        }
      ]
    },
    {
      "cell_type": "code",
      "source": [
        "table4 = sm.stats.Table2x2(np.array([[resp_treat1_f, no_resp_treat1_f], [resp_treat1_m, no_resp_treat1_m]]))"
      ],
      "metadata": {
        "id": "wRhvWEk4Z_uE"
      },
      "execution_count": null,
      "outputs": []
    },
    {
      "cell_type": "code",
      "source": [
        "print(table4.summary(method='normal'))"
      ],
      "metadata": {
        "colab": {
          "base_uri": "https://localhost:8080/"
        },
        "id": "rkfFO9TRaeQ4",
        "outputId": "f675182f-931c-4bc5-f802-650dd55cb6d1"
      },
      "execution_count": null,
      "outputs": [
        {
          "output_type": "stream",
          "name": "stdout",
          "text": [
            "               Estimate   SE   LCB    UCB  p-value\n",
            "--------------------------------------------------\n",
            "Odds ratio        0.763        0.424 1.373   0.366\n",
            "Log odds ratio   -0.271 0.300 -0.858 0.317   0.366\n",
            "Risk ratio        0.803        0.499 1.294   0.368\n",
            "Log risk ratio   -0.219 0.243 -0.696 0.258   0.368\n",
            "--------------------------------------------------\n"
          ]
        }
      ]
    },
    {
      "cell_type": "code",
      "source": [
        "print(f'Odds ratio of Female vs Male | treatment 1 is {np.exp(-0.271):.2f} with ({np.exp(-0.271 - z*0.300):.2f}, {np.exp(-0.271 + z*0.300):.2f})')"
      ],
      "metadata": {
        "colab": {
          "base_uri": "https://localhost:8080/"
        },
        "id": "PA-iK-JV7hEB",
        "outputId": "213dc23d-0161-44a3-da9a-901a82e0240a"
      },
      "execution_count": null,
      "outputs": [
        {
          "output_type": "stream",
          "name": "stdout",
          "text": [
            "Odds ratio of Female vs Male | treatment 1 is 0.76 with (0.42, 1.37)\n"
          ]
        }
      ]
    },
    {
      "cell_type": "code",
      "source": [
        "data_treat2 = data.loc[data['treatment'] == 1]"
      ],
      "metadata": {
        "id": "IkjLPsqFak06"
      },
      "execution_count": null,
      "outputs": []
    },
    {
      "cell_type": "code",
      "source": [
        "no_resp_treat2_f = data_treat2.loc[data['gender'] == 0].was_response.value_counts()[0]\n",
        "no_resp_treat2_m = data_treat2.loc[data['gender'] == 1].was_response.value_counts()[0]\n",
        "resp_treat2_f = data_treat2.loc[data['gender'] == 0].was_response.value_counts()[1]\n",
        "resp_treat2_m = data_treat2.loc[data['gender'] == 1].was_response.value_counts()[1]"
      ],
      "metadata": {
        "id": "TS0JgDuLOPWp"
      },
      "execution_count": null,
      "outputs": []
    },
    {
      "cell_type": "code",
      "source": [
        "print(no_resp_treat2_f, no_resp_treat2_m, resp_treat2_f, resp_treat2_m)"
      ],
      "metadata": {
        "colab": {
          "base_uri": "https://localhost:8080/"
        },
        "id": "qWZNiwQfOeEc",
        "outputId": "89c668a8-09b7-4e68-af4e-34acbfa61e4b"
      },
      "execution_count": null,
      "outputs": [
        {
          "output_type": "stream",
          "name": "stdout",
          "text": [
            "106 148 16 20\n"
          ]
        }
      ]
    },
    {
      "cell_type": "code",
      "source": [
        "table5 = sm.stats.Table2x2(np.array([[resp_treat2_f, no_resp_treat2_f], [resp_treat2_m, no_resp_treat2_m]]))"
      ],
      "metadata": {
        "id": "eWqygn5obBUK"
      },
      "execution_count": null,
      "outputs": []
    },
    {
      "cell_type": "code",
      "source": [
        "print(table5.summary(method='normal'))"
      ],
      "metadata": {
        "colab": {
          "base_uri": "https://localhost:8080/"
        },
        "id": "ctfwp6udbJTt",
        "outputId": "95f5ea19-8248-42a4-b50b-27c4c607b203"
      },
      "execution_count": null,
      "outputs": [
        {
          "output_type": "stream",
          "name": "stdout",
          "text": [
            "               Estimate   SE   LCB    UCB  p-value\n",
            "--------------------------------------------------\n",
            "Odds ratio        1.117        0.553 2.256   0.758\n",
            "Log odds ratio    0.111 0.359 -0.592 0.814   0.758\n",
            "Risk ratio        1.102        0.596 2.037   0.758\n",
            "Log risk ratio    0.097 0.314 -0.518 0.711   0.758\n",
            "--------------------------------------------------\n"
          ]
        }
      ]
    },
    {
      "cell_type": "code",
      "source": [
        "print(f'Odds ratio of Female vs Male | treatment 2 is {np.exp(0.111):.2f} with ({np.exp(0.111 - z*0.359):.2f}, {np.exp(0.111 + z*0.359):.2f})')"
      ],
      "metadata": {
        "colab": {
          "base_uri": "https://localhost:8080/"
        },
        "id": "H-TV-hMV-ADN",
        "outputId": "3de7cffe-e2cb-4584-d41e-d3d8b3fdfcca"
      },
      "execution_count": null,
      "outputs": [
        {
          "output_type": "stream",
          "name": "stdout",
          "text": [
            "Odds ratio of Female vs Male | treatment 2 is 1.12 with (0.55, 2.26)\n"
          ]
        }
      ]
    },
    {
      "cell_type": "markdown",
      "source": [
        "# Result from stast table2x2"
      ],
      "metadata": {
        "id": "Li964jXtBisd"
      }
    },
    {
      "cell_type": "markdown",
      "source": [
        "\n",
        "*   Odds ratio of treatment 1 vs treatment 2 | Male is 1.99 with (1.08, 3.65)\n",
        "*   Odds ratio of treatment 1 vs treatment 2 | Female is 1.36 with (0.69, 2.69)\n",
        "*   Odds ratio of Female vs Male | treatment 1 is 0.76 with (0.42, 1.37)\n",
        "*   Odds ratio of Female vs Male | treatment 2 is 1.12 with (0.55, 2.26)\n"
      ],
      "metadata": {
        "id": "CKn1EuqDBswj"
      }
    },
    {
      "cell_type": "markdown",
      "source": [
        "# Logistic Regression model (sklearn)"
      ],
      "metadata": {
        "id": "krdNz-9WHZX7"
      }
    },
    {
      "cell_type": "markdown",
      "source": [
        "Try to predict efficiency of therapy."
      ],
      "metadata": {
        "id": "CWG1GLFcI3Vw"
      }
    },
    {
      "cell_type": "code",
      "source": [
        "X_3 = data.drop(columns=['was_response'])\n",
        "y_3 = data.was_response"
      ],
      "metadata": {
        "id": "iUFpS5DBAUT9"
      },
      "execution_count": null,
      "outputs": []
    },
    {
      "cell_type": "code",
      "source": [
        "X_train, X_test, y_train, y_test = train_test_split(X_3, y_3, test_size=0.2, random_state=1, shuffle=True, stratify=y_3)"
      ],
      "metadata": {
        "id": "YObiL736AlI-"
      },
      "execution_count": null,
      "outputs": []
    },
    {
      "cell_type": "code",
      "source": [
        "model2 = LogisticRegression(penalty='l2', fit_intercept=False)\n",
        "model2.fit(X_3, y_3)"
      ],
      "metadata": {
        "colab": {
          "base_uri": "https://localhost:8080/"
        },
        "id": "2gaaXnpSBFpW",
        "outputId": "f97dcf9a-6462-4297-de1f-65dbbe1b6486"
      },
      "execution_count": null,
      "outputs": [
        {
          "output_type": "execute_result",
          "data": {
            "text/plain": [
              "LogisticRegression(fit_intercept=False)"
            ]
          },
          "metadata": {},
          "execution_count": 95
        }
      ]
    },
    {
      "cell_type": "code",
      "source": [
        "prediction2 = model2.predict(X_test)"
      ],
      "metadata": {
        "id": "0JxSjVigBQP4"
      },
      "execution_count": null,
      "outputs": []
    },
    {
      "cell_type": "code",
      "source": [
        "print(classification_report(y_test, prediction2))"
      ],
      "metadata": {
        "colab": {
          "base_uri": "https://localhost:8080/"
        },
        "id": "9_SZxCXoBkSi",
        "outputId": "1844353f-dee0-48e2-d637-ccbb31438b3d"
      },
      "execution_count": null,
      "outputs": [
        {
          "output_type": "stream",
          "name": "stdout",
          "text": [
            "              precision    recall  f1-score   support\n",
            "\n",
            "           0       0.85      1.00      0.92        99\n",
            "           1       0.00      0.00      0.00        18\n",
            "\n",
            "    accuracy                           0.85       117\n",
            "   macro avg       0.42      0.50      0.46       117\n",
            "weighted avg       0.72      0.85      0.78       117\n",
            "\n"
          ]
        }
      ]
    },
    {
      "cell_type": "code",
      "source": [
        "X_3.columns"
      ],
      "metadata": {
        "colab": {
          "base_uri": "https://localhost:8080/"
        },
        "id": "0sfVW5vRBroE",
        "outputId": "83517d2a-75b1-4031-946c-1bb1580c3fcb"
      },
      "execution_count": null,
      "outputs": [
        {
          "output_type": "execute_result",
          "data": {
            "text/plain": [
              "Index(['gender', 'treatment', 'intercept', 'interaction'], dtype='object')"
            ]
          },
          "metadata": {},
          "execution_count": 98
        }
      ]
    },
    {
      "cell_type": "code",
      "source": [
        "model2.coef_"
      ],
      "metadata": {
        "colab": {
          "base_uri": "https://localhost:8080/"
        },
        "id": "cq-TezJ5CAZ0",
        "outputId": "4c8cb434-af9e-4412-d326-47f46319aeb8"
      },
      "execution_count": null,
      "outputs": [
        {
          "output_type": "execute_result",
          "data": {
            "text/plain": [
              "array([[ 0.17522894, -0.37704497, -1.50665951, -0.27735434]])"
            ]
          },
          "metadata": {},
          "execution_count": 99
        }
      ]
    },
    {
      "cell_type": "code",
      "source": [
        "X_2.columns"
      ],
      "metadata": {
        "colab": {
          "base_uri": "https://localhost:8080/"
        },
        "id": "j6J9FSkECzCQ",
        "outputId": "22f7f1e7-1621-4f8b-e5ab-42e9358f072a"
      },
      "execution_count": null,
      "outputs": [
        {
          "output_type": "execute_result",
          "data": {
            "text/plain": [
              "Index(['gender', 'treatment', 'intercept', 'interaction'], dtype='object')"
            ]
          },
          "metadata": {},
          "execution_count": 101
        }
      ]
    },
    {
      "cell_type": "code",
      "source": [
        "result_2.params.values"
      ],
      "metadata": {
        "colab": {
          "base_uri": "https://localhost:8080/"
        },
        "id": "ubjpCDicCr9u",
        "outputId": "bc87ba9e-5c1d-4923-f241-f3152671123f"
      },
      "execution_count": null,
      "outputs": [
        {
          "output_type": "execute_result",
          "data": {
            "text/plain": [
              "array([ 0.27073251, -0.30673027, -1.5841201 , -0.38136214])"
            ]
          },
          "metadata": {},
          "execution_count": 102
        }
      ]
    },
    {
      "cell_type": "markdown",
      "source": [
        "# The result of working with data.\n",
        "\n",
        "Data problem: data is binary, few features, unbalanced results.\n",
        "\n",
        "It is better to use the Wilson interval for unbalanced data.\n",
        "\n",
        "The resulting logistic regression model fails to predict a positive response to therapy. Therefore, the prediction of odds ratio using the coefficients from this model may not be entirely correct.\n",
        "\n",
        "Based on the confidence intervals of the difference in proportions, it can be concluded that the effectiveness of treatment 1 and treatment 2 is statistically significantly different.\n",
        "\n",
        "I think we should collect additional data to adjust the odds ratio calculations for different therapies for subgroups of patients.\n"
      ],
      "metadata": {
        "id": "kwcfGavSDIrK"
      }
    }
  ]
}